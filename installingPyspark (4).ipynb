{
  "nbformat": 4,
  "nbformat_minor": 0,
  "metadata": {
    "colab": {
      "provenance": [],
      "collapsed_sections": [
        "BuV7_ZSAzYkX"
      ]
    },
    "kernelspec": {
      "name": "python3",
      "display_name": "Python 3"
    },
    "language_info": {
      "name": "python"
    }
  },
  "cells": [
    {
      "cell_type": "markdown",
      "source": [
        "# **Installing PySpark on Google Colab.**"
      ],
      "metadata": {
        "id": "GIIhyiGLyMkb"
      }
    },
    {
      "cell_type": "code",
      "execution_count": 4,
      "metadata": {
        "colab": {
          "base_uri": "https://localhost:8080/"
        },
        "id": "FiUsYgcpx9q3",
        "outputId": "33171a2a-1163-436c-9e97-630028a9e54e"
      },
      "outputs": [
        {
          "output_type": "stream",
          "name": "stdout",
          "text": [
            "Looking in indexes: https://pypi.org/simple, https://us-python.pkg.dev/colab-wheels/public/simple/\n",
            "Collecting pyspark\n",
            "  Downloading pyspark-3.3.1.tar.gz (281.4 MB)\n",
            "\u001b[K     |████████████████████████████████| 281.4 MB 46 kB/s \n",
            "\u001b[?25hCollecting py4j==0.10.9.5\n",
            "  Downloading py4j-0.10.9.5-py2.py3-none-any.whl (199 kB)\n",
            "\u001b[K     |████████████████████████████████| 199 kB 49.7 MB/s \n",
            "\u001b[?25hBuilding wheels for collected packages: pyspark\n",
            "  Building wheel for pyspark (setup.py) ... \u001b[?25l\u001b[?25hdone\n",
            "  Created wheel for pyspark: filename=pyspark-3.3.1-py2.py3-none-any.whl size=281845512 sha256=8ffd1dce88af7e6c1b944a69513ae8c1f250645517f332385826c3d56cd4428d\n",
            "  Stored in directory: /root/.cache/pip/wheels/43/dc/11/ec201cd671da62fa9c5cc77078235e40722170ceba231d7598\n",
            "Successfully built pyspark\n",
            "Installing collected packages: py4j, pyspark\n",
            "Successfully installed py4j-0.10.9.5 pyspark-3.3.1\n"
          ]
        }
      ],
      "source": [
        "!pip install pyspark"
      ]
    },
    {
      "cell_type": "markdown",
      "source": [
        "# Creating a Spark session "
      ],
      "metadata": {
        "id": "BuV7_ZSAzYkX"
      }
    },
    {
      "cell_type": "code",
      "source": [
        "from pyspark.sql import SparkSession# Create a Spark Session\n",
        "spark = SparkSession.builder.master(\"local[*]\").getOrCreate()\n"
      ],
      "metadata": {
        "id": "j8Fzi9mUy9sL"
      },
      "execution_count": 6,
      "outputs": []
    },
    {
      "cell_type": "markdown",
      "source": [
        "# Starting Spark Session Information\n",
        "\n"
      ],
      "metadata": {
        "id": "Cw0t0vBH0WHW"
      }
    },
    {
      "cell_type": "code",
      "source": [
        "spark"
      ],
      "metadata": {
        "colab": {
          "base_uri": "https://localhost:8080/",
          "height": 219
        },
        "id": "zuW5ihOG0aTa",
        "outputId": "6bfb116b-6476-499a-e36b-3a3a1b6a8bc1"
      },
      "execution_count": 7,
      "outputs": [
        {
          "output_type": "execute_result",
          "data": {
            "text/plain": [
              "<pyspark.sql.session.SparkSession at 0x7ff1d669df70>"
            ],
            "text/html": [
              "\n",
              "            <div>\n",
              "                <p><b>SparkSession - in-memory</b></p>\n",
              "                \n",
              "        <div>\n",
              "            <p><b>SparkContext</b></p>\n",
              "\n",
              "            <p><a href=\"http://4bad64bea630:4040\">Spark UI</a></p>\n",
              "\n",
              "            <dl>\n",
              "              <dt>Version</dt>\n",
              "                <dd><code>v3.3.1</code></dd>\n",
              "              <dt>Master</dt>\n",
              "                <dd><code>local[*]</code></dd>\n",
              "              <dt>AppName</dt>\n",
              "                <dd><code>pyspark-shell</code></dd>\n",
              "            </dl>\n",
              "        </div>\n",
              "        \n",
              "            </div>\n",
              "        "
            ]
          },
          "metadata": {},
          "execution_count": 7
        }
      ]
    },
    {
      "cell_type": "code",
      "source": [
        "!pip install pyspark --quiet\n",
        "!pip install -U -q PyDrive --quiet \n",
        "!apt install openjdk-8-jdk-headless &> /dev/null"
      ],
      "metadata": {
        "id": "nFuGosZdzgCQ"
      },
      "execution_count": 8,
      "outputs": []
    },
    {
      "cell_type": "code",
      "source": [
        "import os\n",
        "os.environ[\"JAVA_HOME\"] = \"/usr/lib/jvm/java-8-openjdk-amd64\""
      ],
      "metadata": {
        "id": "O2ByPtQ4zldE"
      },
      "execution_count": 9,
      "outputs": []
    },
    {
      "cell_type": "code",
      "source": [
        "from pyspark.sql import SparkSession\n",
        "\n",
        "spark = SparkSession \\\n",
        "    .builder \\\n",
        "    .appName(\"civComplaints\") \\\n",
        "    .config(\"spark.ui.port\", \"4050\") \\\n",
        "    .getOrCreate()"
      ],
      "metadata": {
        "id": "pGFnZM_fzpoE"
      },
      "execution_count": 10,
      "outputs": []
    },
    {
      "cell_type": "code",
      "source": [
        "#d#f2 = spark.read.csv(path=\"/content/fashion dataset.csv\", header=True)\n",
        "#df2 = spark.read.csv.format.load(path=\"/content/fashion dataset.csv\", header=True)\n",
        "#display(df2)\n",
        "#df2.printSchema()\n",
        "#df2.show()"
      ],
      "metadata": {
        "colab": {
          "base_uri": "https://localhost:8080/",
          "height": 714
        },
        "id": "ZvK5jpZq1snL",
        "outputId": "b9138fed-2966-4a4e-bc33-e05098983833"
      },
      "execution_count": 56,
      "outputs": [
        {
          "output_type": "display_data",
          "data": {
            "text/plain": [
              "DataFrame[p_id: string, name: string, price: string, colour: string, brand: string, ratingCount: string, avg_rating: string, description: string, p_attributes: string]"
            ]
          },
          "metadata": {}
        },
        {
          "output_type": "stream",
          "name": "stdout",
          "text": [
            "root\n",
            " |-- p_id: string (nullable = true)\n",
            " |-- name: string (nullable = true)\n",
            " |-- price: string (nullable = true)\n",
            " |-- colour: string (nullable = true)\n",
            " |-- brand: string (nullable = true)\n",
            " |-- ratingCount: string (nullable = true)\n",
            " |-- avg_rating: string (nullable = true)\n",
            " |-- description: string (nullable = true)\n",
            " |-- p_attributes: string (nullable = true)\n",
            "\n",
            "+--------+--------------------+-----+-------+--------------+-----------+-----------+--------------------+--------------------+\n",
            "|    p_id|                name|price| colour|         brand|ratingCount| avg_rating|         description|        p_attributes|\n",
            "+--------+--------------------+-----+-------+--------------+-----------+-----------+--------------------+--------------------+\n",
            "| 1518329|Dupatta Bazaar Wh...|  899|  White|Dupatta Bazaar|       1321|4.548826646|White embroidered...|{'Occasion': 'Dai...|\n",
            "| 5829334|Roadster Women Mu...| 1199|Mustard|      Roadster|       5462|4.313255218|\"Mustard yellow s...|{'Body Shape ID':...|\n",
            "|10340119|Inddus Peach-Colo...| 5799|  Peach|        Inddus|        145|4.068965517|Peach-Coloured an...|{'Bottom Fabric':...|\n",
            "|10856380|SASSAFRAS Women B...| 1499|  Black|     SASSAFRAS|       9124|4.147523016|\"Black solid wove...|{'Add-Ons': 'NA',...|\n",
            "|12384822|Kotty Women Black...| 1999|  Black|         Kotty|      12260|4.078466558|\"Black dark wash ...|{'Add-Ons': 'NA',...|\n",
            "|12742100|KASSUALLY Women B...| 2199|  Black|     KASSUALLY|       6297|4.349213911|Black printed bas...|{'Body or Garment...|\n",
            "|13842966|Sassafras Brown &...| 1499|  Brown|     SASSAFRAS|       7358|4.395351998|<ul><li>Brown and...|{'Body Shape ID':...|\n",
            "|14021452|Sera Women Multic...| 1494|  Multi|          Sera|        750|      4.288|Brown and blue pr...|{'Body or Garment...|\n",
            "|14063026|Tokyo Talkies Wom...|  699|  Black| Tokyo Talkies|       1856|4.530711207|\"Black solid mid-...|{'Body or Garment...|\n",
            "|14324806|Anouk Stylish Bla...| 4699|  Black|         Anouk|         84| 3.80952381|Stay fashionable ...|{'Blouse Closure'...|\n",
            "|14955068|Roadster Women El...| 2599|  Mauve|      Roadster|        752| 4.21143617|Add a hint of dra...|{'Add-Ons': 'NA',...|\n",
            "|16595858|Saree Mall Floral...| 3599|   Pink|    Saree mall|       1005|3.980099502|Dress up or dress...|{'Blouse': 'Blous...|\n",
            "|16827132|Tokyo Talkies Wom...| 1399| Maroon| Tokyo Talkies|        125|      3.912|<p>Maroon solid r...|{'Body Shape ID':...|\n",
            "|17048614|Khushal K Women B...| 5099|  Black|     Khushal K|       4522|4.418398939|Black printed Kur...|{'Add-Ons': 'NA',...|\n",
            "|17413232|Anubhutee Pink Et...| 1739|   Pink|     Anubhutee|        273|4.249084249|\"<ul> <li> Pink s...|{'Body or Garment...|\n",
            "|18601482|MONTREZ Women Whi...| 1999|  White|       MONTREZ|         61| 4.37704918|White graphic pri...|{'Add-Ons': 'NA',...|\n",
            "|18841352|Styli Women Golde...| 1949|   Gold|         Styli|       null|       null|\"<p>Golden sequin...|{'Add-Ons': 'NA',...|\n",
            "| 8317561|Chemistry Blue De...| 1699|   Blue|     Chemistry|        900|4.314444444|\"Blue&nbsp;solid ...| 2% elastane<br>M...|\n",
            "| 8340727|Inddus Women Dust...| 6549|   Pink|        Inddus|        636|3.985849057|\"Dusty Pink semi-...|{'Blouse Closure'...|\n",
            "|10856322|SASSAFRAS Women B...| 1799|  Black|     SASSAFRAS|       4458|4.478017048|Black ribbed open...|{'Body or Garment...|\n",
            "+--------+--------------------+-----+-------+--------------+-----------+-----------+--------------------+--------------------+\n",
            "only showing top 20 rows\n",
            "\n"
          ]
        }
      ]
    },
    {
      "cell_type": "code",
      "source": [
        "#df1 = spark.read.format('csv').load(path='/content/fashion brand details.csv', header= True)\n",
        "#display(df1)\n",
        "#df1.printSchema()\n",
        "#df1.show(5)\n",
        "\n"
      ],
      "metadata": {
        "colab": {
          "base_uri": "https://localhost:8080/",
          "height": 295
        },
        "id": "oAi5abMD5Smz",
        "outputId": "86a7e457-43ec-4a7d-afcc-41b9ae780d58"
      },
      "execution_count": 57,
      "outputs": [
        {
          "output_type": "display_data",
          "data": {
            "text/plain": [
              "DataFrame[brand_id: string, brand_name: string]"
            ]
          },
          "metadata": {}
        },
        {
          "output_type": "stream",
          "name": "stdout",
          "text": [
            "root\n",
            " |-- brand_id: string (nullable = true)\n",
            " |-- brand_name: string (nullable = true)\n",
            "\n",
            "+--------+-----------+\n",
            "|brand_id| brand_name|\n",
            "+--------+-----------+\n",
            "|       1|        513|\n",
            "|       2|       109F|\n",
            "|       3|  20Dresses|\n",
            "|       4|250 Designs|\n",
            "|       5|       3Pin|\n",
            "+--------+-----------+\n",
            "only showing top 5 rows\n",
            "\n"
          ]
        }
      ]
    },
    {
      "cell_type": "code",
      "source": [
        "from pyspark.sql.functions import col\n"
      ],
      "metadata": {
        "id": "RkLZUMgh0q2z"
      },
      "execution_count": 11,
      "outputs": []
    },
    {
      "cell_type": "markdown",
      "source": [
        "# Importing Dataset into Pyspark"
      ],
      "metadata": {
        "id": "fTvGfM4n2ulp"
      }
    },
    {
      "cell_type": "code",
      "source": [
        "Fashion_df1 = spark.read.csv('/content/fashion brand details.csv', inferSchema= True ,header= True)\n",
        "Fashion_df1.show()"
      ],
      "metadata": {
        "id": "7Qj-u2kC25t0",
        "colab": {
          "base_uri": "https://localhost:8080/"
        },
        "outputId": "83c2a358-1aee-420a-e858-0f10df744b05"
      },
      "execution_count": 12,
      "outputs": [
        {
          "output_type": "stream",
          "name": "stdout",
          "text": [
            "+--------+--------------------+\n",
            "|brand_id|          brand_name|\n",
            "+--------+--------------------+\n",
            "|       1|                 513|\n",
            "|       2|                109F|\n",
            "|       3|           20Dresses|\n",
            "|       4|         250 Designs|\n",
            "|       5|                3Pin|\n",
            "|       6|       6Y Collective|\n",
            "|       7|     98 Degree North|\n",
            "|       8|          9Teenagain|\n",
            "|       9|      A Little Fable|\n",
            "|      10|            A.T.U.N.|\n",
            "|      11|             Aadvika|\n",
            "|      12|       Aadya Fashion|\n",
            "|      13|              Aahwan|\n",
            "|      14|              Aaliya|\n",
            "|      15|              Aarbee|\n",
            "|      16|              Aarika|\n",
            "|      17|    Aarke Ritu Kumar|\n",
            "|      18|                Aasi|\n",
            "|      19|Aasi - House Of Nayo|\n",
            "|      20|              Aasiya|\n",
            "+--------+--------------------+\n",
            "only showing top 20 rows\n",
            "\n"
          ]
        }
      ]
    },
    {
      "cell_type": "markdown",
      "source": [
        "\n",
        "# Checking the Data type if correct"
      ],
      "metadata": {
        "id": "WY--RNjMcgKW"
      }
    },
    {
      "cell_type": "code",
      "source": [
        "Fashion_df1.printSchema()\n",
        "Fashion_df1.show()\n"
      ],
      "metadata": {
        "id": "7oVw9CCBTdds",
        "colab": {
          "base_uri": "https://localhost:8080/"
        },
        "outputId": "5ee504b7-76c5-4b66-8f3c-e14aa5240e92"
      },
      "execution_count": 16,
      "outputs": [
        {
          "output_type": "stream",
          "name": "stdout",
          "text": [
            "root\n",
            " |-- brand_id: integer (nullable = true)\n",
            " |-- brand_name: string (nullable = true)\n",
            "\n",
            "+--------+--------------------+\n",
            "|brand_id|          brand_name|\n",
            "+--------+--------------------+\n",
            "|       1|                 513|\n",
            "|       2|                109F|\n",
            "|       3|           20Dresses|\n",
            "|       4|         250 Designs|\n",
            "|       5|                3Pin|\n",
            "|       6|       6Y Collective|\n",
            "|       7|     98 Degree North|\n",
            "|       8|          9Teenagain|\n",
            "|       9|      A Little Fable|\n",
            "|      10|            A.T.U.N.|\n",
            "|      11|             Aadvika|\n",
            "|      12|       Aadya Fashion|\n",
            "|      13|              Aahwan|\n",
            "|      14|              Aaliya|\n",
            "|      15|              Aarbee|\n",
            "|      16|              Aarika|\n",
            "|      17|    Aarke Ritu Kumar|\n",
            "|      18|                Aasi|\n",
            "|      19|Aasi - House Of Nayo|\n",
            "|      20|              Aasiya|\n",
            "+--------+--------------------+\n",
            "only showing top 20 rows\n",
            "\n"
          ]
        }
      ]
    },
    {
      "cell_type": "code",
      "source": [
        "Fashion_df1.describe()"
      ],
      "metadata": {
        "id": "SwvhtUEbiIDh",
        "colab": {
          "base_uri": "https://localhost:8080/"
        },
        "outputId": "8b6d765e-4c2a-400e-cf3a-bf8e82690e57"
      },
      "execution_count": 15,
      "outputs": [
        {
          "output_type": "execute_result",
          "data": {
            "text/plain": [
              "DataFrame[summary: string, brand_id: string, brand_name: string]"
            ]
          },
          "metadata": {},
          "execution_count": 15
        }
      ]
    },
    {
      "cell_type": "markdown",
      "source": [
        "## Find and Count of Null, None, NaN value in All DataFrame Columns for fashion brand details dataset"
      ],
      "metadata": {
        "id": "jgHzvqvjekoz"
      }
    },
    {
      "cell_type": "code",
      "source": [
        "from pyspark.sql.functions import col,isnan,when,count\n",
        "df1 = Fashion_df1.select([count(when(col(c).contains('None') | \\\n",
        "                            col(c).contains('NULL') | \\\n",
        "                            (col(c) == '' ) | \\\n",
        "                            col(c).isNull() | \\\n",
        "                            isnan(c), c \n",
        "                           )).alias(c)\n",
        "                    for c in Fashion_df1.columns])\n",
        "df1.show()\n",
        "Fashion_df1.show(5)\n",
        "Fashion_df1.printSchema()"
      ],
      "metadata": {
        "id": "wdw_-TNBeGy7",
        "colab": {
          "base_uri": "https://localhost:8080/"
        },
        "outputId": "31c96bca-d849-4531-b214-d1590382bd2a"
      },
      "execution_count": 18,
      "outputs": [
        {
          "output_type": "stream",
          "name": "stdout",
          "text": [
            "+--------+----------+\n",
            "|brand_id|brand_name|\n",
            "+--------+----------+\n",
            "|       0|         0|\n",
            "+--------+----------+\n",
            "\n",
            "+--------+-----------+\n",
            "|brand_id| brand_name|\n",
            "+--------+-----------+\n",
            "|       1|        513|\n",
            "|       2|       109F|\n",
            "|       3|  20Dresses|\n",
            "|       4|250 Designs|\n",
            "|       5|       3Pin|\n",
            "+--------+-----------+\n",
            "only showing top 5 rows\n",
            "\n",
            "root\n",
            " |-- brand_id: integer (nullable = true)\n",
            " |-- brand_name: string (nullable = true)\n",
            "\n"
          ]
        }
      ]
    },
    {
      "cell_type": "markdown",
      "source": [
        "# Number of rows in DF"
      ],
      "metadata": {
        "id": "vCRCeLn9Z6Qb"
      }
    },
    {
      "cell_type": "code",
      "source": [
        "print(\"The Number of rows in the Fashion brand details Dataset: \", Fashion_df1.count())"
      ],
      "metadata": {
        "colab": {
          "base_uri": "https://localhost:8080/"
        },
        "id": "CrsxBHFVaEGe",
        "outputId": "2f0932b0-6799-4b19-e058-73c03184a3da"
      },
      "execution_count": 19,
      "outputs": [
        {
          "output_type": "stream",
          "name": "stdout",
          "text": [
            "The Number of rows in the Fashion brand details Dataset:  1020\n"
          ]
        }
      ]
    },
    {
      "cell_type": "code",
      "source": [
        "Fashion_df1.describe().show()"
      ],
      "metadata": {
        "colab": {
          "base_uri": "https://localhost:8080/"
        },
        "id": "9Qv8mCP4bX31",
        "outputId": "6671bb91-5713-4ce4-fd2d-ad54d22925ff"
      },
      "execution_count": 20,
      "outputs": [
        {
          "output_type": "stream",
          "name": "stdout",
          "text": [
            "+-------+-----------------+-----------------+\n",
            "|summary|         brand_id|       brand_name|\n",
            "+-------+-----------------+-----------------+\n",
            "|  count|             1020|             1020|\n",
            "|   mean|            510.5|            311.0|\n",
            "| stddev|294.5929394944828|285.6711395993652|\n",
            "|    min|                1|             109F|\n",
            "|    max|             1020|             Zola|\n",
            "+-------+-----------------+-----------------+\n",
            "\n"
          ]
        }
      ]
    },
    {
      "cell_type": "markdown",
      "source": [
        "# Importing the Second Dataset fashion dataset.csv"
      ],
      "metadata": {
        "id": "zBSlKcUcDiQ_"
      }
    },
    {
      "cell_type": "code",
      "source": [
        "Fashion_df2 = spark.read.csv('/content/fashion dataset.csv', inferSchema= True ,header= True)\n",
        "Fashion_df2.show(10)"
      ],
      "metadata": {
        "colab": {
          "base_uri": "https://localhost:8080/"
        },
        "id": "UJ6FX55jDRI3",
        "outputId": "edf1d613-512f-4464-e56f-a6e829ded08e"
      },
      "execution_count": 21,
      "outputs": [
        {
          "output_type": "stream",
          "name": "stdout",
          "text": [
            "+--------+--------------------+-----+-------+--------------+-----------+-----------+--------------------+--------------------+\n",
            "|    p_id|                name|price| colour|         brand|ratingCount| avg_rating|         description|        p_attributes|\n",
            "+--------+--------------------+-----+-------+--------------+-----------+-----------+--------------------+--------------------+\n",
            "| 1518329|Dupatta Bazaar Wh...|  899|  White|Dupatta Bazaar|       1321|4.548826646|White embroidered...|{'Occasion': 'Dai...|\n",
            "| 5829334|Roadster Women Mu...| 1199|Mustard|      Roadster|       5462|4.313255218|\"Mustard yellow s...|{'Body Shape ID':...|\n",
            "|10340119|Inddus Peach-Colo...| 5799|  Peach|        Inddus|        145|4.068965517|Peach-Coloured an...|{'Bottom Fabric':...|\n",
            "|10856380|SASSAFRAS Women B...| 1499|  Black|     SASSAFRAS|       9124|4.147523016|\"Black solid wove...|{'Add-Ons': 'NA',...|\n",
            "|12384822|Kotty Women Black...| 1999|  Black|         Kotty|      12260|4.078466558|\"Black dark wash ...|{'Add-Ons': 'NA',...|\n",
            "|12742100|KASSUALLY Women B...| 2199|  Black|     KASSUALLY|       6297|4.349213911|Black printed bas...|{'Body or Garment...|\n",
            "|13842966|Sassafras Brown &...| 1499|  Brown|     SASSAFRAS|       7358|4.395351998|<ul><li>Brown and...|{'Body Shape ID':...|\n",
            "|14021452|Sera Women Multic...| 1494|  Multi|          Sera|        750|      4.288|Brown and blue pr...|{'Body or Garment...|\n",
            "|14063026|Tokyo Talkies Wom...|  699|  Black| Tokyo Talkies|       1856|4.530711207|\"Black solid mid-...|{'Body or Garment...|\n",
            "|14324806|Anouk Stylish Bla...| 4699|  Black|         Anouk|         84| 3.80952381|Stay fashionable ...|{'Blouse Closure'...|\n",
            "+--------+--------------------+-----+-------+--------------+-----------+-----------+--------------------+--------------------+\n",
            "only showing top 10 rows\n",
            "\n"
          ]
        }
      ]
    },
    {
      "cell_type": "markdown",
      "source": [
        "# Find and Count of Null, None, NaN value in All DataFrame Columns for fashion dataset"
      ],
      "metadata": {
        "id": "bqBxVzsXFIuF"
      }
    },
    {
      "cell_type": "code",
      "source": [
        "from pyspark.sql.functions import col,isnan,when,count\n",
        "df2 = Fashion_df2.select([count(when(col(c).contains('None') | \\\n",
        "                            col(c).contains('NULL') | \\\n",
        "                            (col(c) == '' ) | \\\n",
        "                            col(c).isNull() | \\\n",
        "                            isnan(c), c \n",
        "                           )).alias(c)\n",
        "                    for c in Fashion_df2.columns])\n",
        "#print(\"The Value of Null in the dataset \",dfA2.show())\n",
        "df2.show()\n"
      ],
      "metadata": {
        "colab": {
          "base_uri": "https://localhost:8080/"
        },
        "id": "JOXglRO5Hq6g",
        "outputId": "a087eab9-d316-4f67-fbee-b05e58a07636"
      },
      "execution_count": 22,
      "outputs": [
        {
          "output_type": "stream",
          "name": "stdout",
          "text": [
            "+----+----+-----+------+-----+-----------+----------+-----------+------------+\n",
            "|p_id|name|price|colour|brand|ratingCount|avg_rating|description|p_attributes|\n",
            "+----+----+-----+------+-----+-----------+----------+-----------+------------+\n",
            "|  18|  33|  351|   431|  446|       8170|      8170|        443|        1619|\n",
            "+----+----+-----+------+-----+-----------+----------+-----------+------------+\n",
            "\n"
          ]
        }
      ]
    },
    {
      "cell_type": "markdown",
      "source": [
        "# The total Numbers of rows"
      ],
      "metadata": {
        "id": "dX_w7SSDqGB_"
      }
    },
    {
      "cell_type": "code",
      "source": [
        "Fashion_df2.count()\n",
        "print (\"The total Numbers of rows is :\", Fashion_df2.count())"
      ],
      "metadata": {
        "colab": {
          "base_uri": "https://localhost:8080/"
        },
        "id": "_NUeE1Dtn1Sa",
        "outputId": "5d73b532-c34d-4d5a-e72b-f778f68e19b5"
      },
      "execution_count": 23,
      "outputs": [
        {
          "output_type": "stream",
          "name": "stdout",
          "text": [
            "The total Numbers of rows is : 14754\n"
          ]
        }
      ]
    },
    {
      "cell_type": "code",
      "source": [
        "Fashion_df2.describe().show()"
      ],
      "metadata": {
        "colab": {
          "base_uri": "https://localhost:8080/"
        },
        "id": "N0nAKFyIhrXI",
        "outputId": "87e5d60d-23f1-4b96-b1b6-273edd18eec1"
      },
      "execution_count": 143,
      "outputs": [
        {
          "output_type": "stream",
          "name": "stdout",
          "text": [
            "+-------+--------------------+--------------------+--------------------+--------------------+--------------------+--------------------+--------------------+--------------------+--------------------+\n",
            "|summary|                p_id|                name|               price|              colour|               brand|         ratingCount|          avg_rating|         description|        p_attributes|\n",
            "+-------+--------------------+--------------------+--------------------+--------------------+--------------------+--------------------+--------------------+--------------------+--------------------+\n",
            "|  count|               14736|               14721|               14403|               14323|               14308|                6584|                6584|               14311|               13900|\n",
            "|   mean|1.5691291900496121E7|                null|  2964.1684835779174|                null|               270.6|  184.47941042394774|  4.1012258658981935|                null|                null|\n",
            "| stddev|   3153525.155166516|                null|  2564.0148505973716|                null|  221.27991323208713|    782.501136511221| 0.47563329373791424|                null|                null|\n",
            "|    min| The model (heigh...|            10% Silk| 'Blouse Fabric':...| 'Border': 'Printed'| 'Care for me': 'NA'| 'Multipack Set':...| 'Occasion': 'Fes...| 'Ornamentation':...| 'Pattern': 'Prin...|\n",
            "|    max|Width)</p><p>Silk...|{'Bottom Fabric':...|{'Blouse': 'NA', ...|{'Blouse': 'Blous...|              zink Z|                 998|                   5|woven design lehe...|{'Pattern': 'Solid'}|\n",
            "+-------+--------------------+--------------------+--------------------+--------------------+--------------------+--------------------+--------------------+--------------------+--------------------+\n",
            "\n"
          ]
        }
      ]
    },
    {
      "cell_type": "code",
      "source": [
        "Fashion_df2.printSchema()\n",
        "print(\"This is the number of Rows of the fashion dataset:\", Fashion_df2.count())"
      ],
      "metadata": {
        "colab": {
          "base_uri": "https://localhost:8080/"
        },
        "id": "FlxQJbs7pnXs",
        "outputId": "1b23bf4c-d74f-431e-8232-3c8cf54792bc"
      },
      "execution_count": 24,
      "outputs": [
        {
          "output_type": "stream",
          "name": "stdout",
          "text": [
            "root\n",
            " |-- p_id: string (nullable = true)\n",
            " |-- name: string (nullable = true)\n",
            " |-- price: string (nullable = true)\n",
            " |-- colour: string (nullable = true)\n",
            " |-- brand: string (nullable = true)\n",
            " |-- ratingCount: string (nullable = true)\n",
            " |-- avg_rating: string (nullable = true)\n",
            " |-- description: string (nullable = true)\n",
            " |-- p_attributes: string (nullable = true)\n",
            "\n",
            "This is the number of Rows of the fashion dataset: 14754\n"
          ]
        }
      ]
    },
    {
      "cell_type": "markdown",
      "source": [
        "# Cast Datatype from to another type"
      ],
      "metadata": {
        "id": "VpwviVEbvclo"
      }
    },
    {
      "cell_type": "code",
      "source": [
        "Fashion_df2 = Fashion_df2.withColumn(\"p_id\", \n",
        "                                  Fashion_df2[\"p_id\"]\n",
        "                                  .cast('int'))\n",
        "Fashion_df2 = Fashion_df2.withColumn(\"price\", \n",
        "                                  Fashion_df2[\"price\"]\n",
        "                                  .cast('int'))\n",
        "Fashion_df2 = Fashion_df2.withColumn(\"ratingCount\", \n",
        "                                  Fashion_df2[\"ratingCount\"]\n",
        "                                  .cast('int'))\n",
        "Fashion_df2 = Fashion_df2.withColumn(\"avg_rating\", \n",
        "                                  Fashion_df2[\"avg_rating\"]\n",
        "                                  .cast('float'))\n"
      ],
      "metadata": {
        "id": "VQ3MPztoEc6I"
      },
      "execution_count": 25,
      "outputs": []
    },
    {
      "cell_type": "markdown",
      "source": [
        "# Checking the result of the Data type"
      ],
      "metadata": {
        "id": "PBfh94NLHnZR"
      }
    },
    {
      "cell_type": "code",
      "source": [
        "Fashion_df2.printSchema()\n",
        "print(\"This is the number of Rows of the fashion dataset:\", Fashion_df2.count())"
      ],
      "metadata": {
        "colab": {
          "base_uri": "https://localhost:8080/"
        },
        "id": "KHahMWkFHma8",
        "outputId": "251fee83-c6fa-4b57-e03d-af9b940aa027"
      },
      "execution_count": 26,
      "outputs": [
        {
          "output_type": "stream",
          "name": "stdout",
          "text": [
            "root\n",
            " |-- p_id: integer (nullable = true)\n",
            " |-- name: string (nullable = true)\n",
            " |-- price: integer (nullable = true)\n",
            " |-- colour: string (nullable = true)\n",
            " |-- brand: string (nullable = true)\n",
            " |-- ratingCount: integer (nullable = true)\n",
            " |-- avg_rating: float (nullable = true)\n",
            " |-- description: string (nullable = true)\n",
            " |-- p_attributes: string (nullable = true)\n",
            "\n",
            "This is the number of Rows of the fashion dataset: 14754\n"
          ]
        }
      ]
    },
    {
      "cell_type": "markdown",
      "source": [
        "This shows that the dataset fashion brand details is cleaned and no null values"
      ],
      "metadata": {
        "id": "tygyfq8MKK2P"
      }
    },
    {
      "cell_type": "markdown",
      "source": [
        "# Converting the Dataframe into Table"
      ],
      "metadata": {
        "id": "-I-rotpuMpJI"
      }
    },
    {
      "cell_type": "code",
      "source": [
        "Fashion_df2.show()\n",
        "Fashion_df1.show()"
      ],
      "metadata": {
        "colab": {
          "base_uri": "https://localhost:8080/"
        },
        "id": "Bj4hRyLoM3v8",
        "outputId": "2a1ccb4a-cdeb-4765-b519-b3c3c2802d58"
      },
      "execution_count": 27,
      "outputs": [
        {
          "output_type": "stream",
          "name": "stdout",
          "text": [
            "+--------+--------------------+-----+-------+--------------+-----------+----------+--------------------+--------------------+\n",
            "|    p_id|                name|price| colour|         brand|ratingCount|avg_rating|         description|        p_attributes|\n",
            "+--------+--------------------+-----+-------+--------------+-----------+----------+--------------------+--------------------+\n",
            "| 1518329|Dupatta Bazaar Wh...|  899|  White|Dupatta Bazaar|       1321| 4.5488267|White embroidered...|{'Occasion': 'Dai...|\n",
            "| 5829334|Roadster Women Mu...| 1199|Mustard|      Roadster|       5462| 4.3132553|\"Mustard yellow s...|{'Body Shape ID':...|\n",
            "|10340119|Inddus Peach-Colo...| 5799|  Peach|        Inddus|        145| 4.0689654|Peach-Coloured an...|{'Bottom Fabric':...|\n",
            "|10856380|SASSAFRAS Women B...| 1499|  Black|     SASSAFRAS|       9124|  4.147523|\"Black solid wove...|{'Add-Ons': 'NA',...|\n",
            "|12384822|Kotty Women Black...| 1999|  Black|         Kotty|      12260| 4.0784664|\"Black dark wash ...|{'Add-Ons': 'NA',...|\n",
            "|12742100|KASSUALLY Women B...| 2199|  Black|     KASSUALLY|       6297|  4.349214|Black printed bas...|{'Body or Garment...|\n",
            "|13842966|Sassafras Brown &...| 1499|  Brown|     SASSAFRAS|       7358|  4.395352|<ul><li>Brown and...|{'Body Shape ID':...|\n",
            "|14021452|Sera Women Multic...| 1494|  Multi|          Sera|        750|     4.288|Brown and blue pr...|{'Body or Garment...|\n",
            "|14063026|Tokyo Talkies Wom...|  699|  Black| Tokyo Talkies|       1856|  4.530711|\"Black solid mid-...|{'Body or Garment...|\n",
            "|14324806|Anouk Stylish Bla...| 4699|  Black|         Anouk|         84| 3.8095238|Stay fashionable ...|{'Blouse Closure'...|\n",
            "|14955068|Roadster Women El...| 2599|  Mauve|      Roadster|        752| 4.2114363|Add a hint of dra...|{'Add-Ons': 'NA',...|\n",
            "|16595858|Saree Mall Floral...| 3599|   Pink|    Saree mall|       1005| 3.9800994|Dress up or dress...|{'Blouse': 'Blous...|\n",
            "|16827132|Tokyo Talkies Wom...| 1399| Maroon| Tokyo Talkies|        125|     3.912|<p>Maroon solid r...|{'Body Shape ID':...|\n",
            "|17048614|Khushal K Women B...| 5099|  Black|     Khushal K|       4522|  4.418399|Black printed Kur...|{'Add-Ons': 'NA',...|\n",
            "|17413232|Anubhutee Pink Et...| 1739|   Pink|     Anubhutee|        273| 4.2490845|\"<ul> <li> Pink s...|{'Body or Garment...|\n",
            "|18601482|MONTREZ Women Whi...| 1999|  White|       MONTREZ|         61|  4.377049|White graphic pri...|{'Add-Ons': 'NA',...|\n",
            "|18841352|Styli Women Golde...| 1949|   Gold|         Styli|       null|      null|\"<p>Golden sequin...|{'Add-Ons': 'NA',...|\n",
            "| 8317561|Chemistry Blue De...| 1699|   Blue|     Chemistry|        900| 4.3144445|\"Blue&nbsp;solid ...| 2% elastane<br>M...|\n",
            "| 8340727|Inddus Women Dust...| 6549|   Pink|        Inddus|        636| 3.9858491|\"Dusty Pink semi-...|{'Blouse Closure'...|\n",
            "|10856322|SASSAFRAS Women B...| 1799|  Black|     SASSAFRAS|       4458|  4.478017|Black ribbed open...|{'Body or Garment...|\n",
            "+--------+--------------------+-----+-------+--------------+-----------+----------+--------------------+--------------------+\n",
            "only showing top 20 rows\n",
            "\n",
            "+--------+--------------------+\n",
            "|brand_id|          brand_name|\n",
            "+--------+--------------------+\n",
            "|       1|                 513|\n",
            "|       2|                109F|\n",
            "|       3|           20Dresses|\n",
            "|       4|         250 Designs|\n",
            "|       5|                3Pin|\n",
            "|       6|       6Y Collective|\n",
            "|       7|     98 Degree North|\n",
            "|       8|          9Teenagain|\n",
            "|       9|      A Little Fable|\n",
            "|      10|            A.T.U.N.|\n",
            "|      11|             Aadvika|\n",
            "|      12|       Aadya Fashion|\n",
            "|      13|              Aahwan|\n",
            "|      14|              Aaliya|\n",
            "|      15|              Aarbee|\n",
            "|      16|              Aarika|\n",
            "|      17|    Aarke Ritu Kumar|\n",
            "|      18|                Aasi|\n",
            "|      19|Aasi - House Of Nayo|\n",
            "|      20|              Aasiya|\n",
            "+--------+--------------------+\n",
            "only showing top 20 rows\n",
            "\n"
          ]
        }
      ]
    },
    {
      "cell_type": "code",
      "source": [
        "Fashion_df1.show()"
      ],
      "metadata": {
        "colab": {
          "base_uri": "https://localhost:8080/"
        },
        "id": "a9UpoMhRNgsg",
        "outputId": "d12ec598-6fc8-469e-fe7f-2591b5db75a2"
      },
      "execution_count": 28,
      "outputs": [
        {
          "output_type": "stream",
          "name": "stdout",
          "text": [
            "+--------+--------------------+\n",
            "|brand_id|          brand_name|\n",
            "+--------+--------------------+\n",
            "|       1|                 513|\n",
            "|       2|                109F|\n",
            "|       3|           20Dresses|\n",
            "|       4|         250 Designs|\n",
            "|       5|                3Pin|\n",
            "|       6|       6Y Collective|\n",
            "|       7|     98 Degree North|\n",
            "|       8|          9Teenagain|\n",
            "|       9|      A Little Fable|\n",
            "|      10|            A.T.U.N.|\n",
            "|      11|             Aadvika|\n",
            "|      12|       Aadya Fashion|\n",
            "|      13|              Aahwan|\n",
            "|      14|              Aaliya|\n",
            "|      15|              Aarbee|\n",
            "|      16|              Aarika|\n",
            "|      17|    Aarke Ritu Kumar|\n",
            "|      18|                Aasi|\n",
            "|      19|Aasi - House Of Nayo|\n",
            "|      20|              Aasiya|\n",
            "+--------+--------------------+\n",
            "only showing top 20 rows\n",
            "\n"
          ]
        }
      ]
    },
    {
      "cell_type": "markdown",
      "source": [
        "# Convert the Dataframe into Table in order to use SQL queries in pyspark "
      ],
      "metadata": {
        "id": "cCX1t7QjTjfo"
      }
    },
    {
      "cell_type": "markdown",
      "source": [
        "# Creating Table From DataFrame"
      ],
      "metadata": {
        "id": "sGpLcGHUcYHt"
      }
    },
    {
      "cell_type": "code",
      "source": [
        "Fashion_df1.createOrReplaceTempView(\"brand\")"
      ],
      "metadata": {
        "id": "JaiImeLvT7HU"
      },
      "execution_count": 29,
      "outputs": []
    },
    {
      "cell_type": "code",
      "source": [
        "Fashion_df2.createOrReplaceTempView(\"products\")"
      ],
      "metadata": {
        "id": "tqGqwa9rcoXr"
      },
      "execution_count": 30,
      "outputs": []
    },
    {
      "cell_type": "code",
      "source": [
        "spark.sql(\"select * from brand limit 10\").show()"
      ],
      "metadata": {
        "colab": {
          "base_uri": "https://localhost:8080/"
        },
        "id": "o3XUDwyYe2SI",
        "outputId": "5337693b-b813-48a5-ca7d-73fb29255a1f"
      },
      "execution_count": 35,
      "outputs": [
        {
          "output_type": "stream",
          "name": "stdout",
          "text": [
            "+--------+---------------+\n",
            "|brand_id|     brand_name|\n",
            "+--------+---------------+\n",
            "|       1|            513|\n",
            "|       2|           109F|\n",
            "|       3|      20Dresses|\n",
            "|       4|    250 Designs|\n",
            "|       5|           3Pin|\n",
            "|       6|  6Y Collective|\n",
            "|       7|98 Degree North|\n",
            "|       8|     9Teenagain|\n",
            "|       9| A Little Fable|\n",
            "|      10|       A.T.U.N.|\n",
            "+--------+---------------+\n",
            "\n"
          ]
        }
      ]
    },
    {
      "cell_type": "markdown",
      "source": [],
      "metadata": {
        "id": "_U923KuYe2sq"
      }
    },
    {
      "cell_type": "code",
      "source": [
        "spark.sql(\"select * from products limit 10\").show()"
      ],
      "metadata": {
        "colab": {
          "base_uri": "https://localhost:8080/"
        },
        "id": "4wK_xGBdjy85",
        "outputId": "78d59f86-22fa-4c8a-c526-b6e12c69a27c"
      },
      "execution_count": 37,
      "outputs": [
        {
          "output_type": "stream",
          "name": "stdout",
          "text": [
            "+--------+--------------------+-----+-------+--------------+-----------+----------+--------------------+--------------------+\n",
            "|    p_id|                name|price| colour|         brand|ratingCount|avg_rating|         description|        p_attributes|\n",
            "+--------+--------------------+-----+-------+--------------+-----------+----------+--------------------+--------------------+\n",
            "| 1518329|Dupatta Bazaar Wh...|  899|  White|Dupatta Bazaar|       1321| 4.5488267|White embroidered...|{'Occasion': 'Dai...|\n",
            "| 5829334|Roadster Women Mu...| 1199|Mustard|      Roadster|       5462| 4.3132553|\"Mustard yellow s...|{'Body Shape ID':...|\n",
            "|10340119|Inddus Peach-Colo...| 5799|  Peach|        Inddus|        145| 4.0689654|Peach-Coloured an...|{'Bottom Fabric':...|\n",
            "|10856380|SASSAFRAS Women B...| 1499|  Black|     SASSAFRAS|       9124|  4.147523|\"Black solid wove...|{'Add-Ons': 'NA',...|\n",
            "|12384822|Kotty Women Black...| 1999|  Black|         Kotty|      12260| 4.0784664|\"Black dark wash ...|{'Add-Ons': 'NA',...|\n",
            "|12742100|KASSUALLY Women B...| 2199|  Black|     KASSUALLY|       6297|  4.349214|Black printed bas...|{'Body or Garment...|\n",
            "|13842966|Sassafras Brown &...| 1499|  Brown|     SASSAFRAS|       7358|  4.395352|<ul><li>Brown and...|{'Body Shape ID':...|\n",
            "|14021452|Sera Women Multic...| 1494|  Multi|          Sera|        750|     4.288|Brown and blue pr...|{'Body or Garment...|\n",
            "|14063026|Tokyo Talkies Wom...|  699|  Black| Tokyo Talkies|       1856|  4.530711|\"Black solid mid-...|{'Body or Garment...|\n",
            "|14324806|Anouk Stylish Bla...| 4699|  Black|         Anouk|         84| 3.8095238|Stay fashionable ...|{'Blouse Closure'...|\n",
            "+--------+--------------------+-----+-------+--------------+-----------+----------+--------------------+--------------------+\n",
            "\n"
          ]
        }
      ]
    },
    {
      "cell_type": "markdown",
      "source": [
        "# end"
      ],
      "metadata": {
        "id": "IoH-eI66NDg5"
      }
    },
    {
      "cell_type": "markdown",
      "source": [],
      "metadata": {
        "id": "kxvJESvdcMcs"
      }
    }
  ]
}