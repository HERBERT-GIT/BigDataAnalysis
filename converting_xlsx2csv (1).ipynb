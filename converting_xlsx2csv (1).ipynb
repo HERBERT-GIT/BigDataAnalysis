{
  "nbformat": 4,
  "nbformat_minor": 0,
  "metadata": {
    "colab": {
      "provenance": []
    },
    "kernelspec": {
      "name": "python3",
      "display_name": "Python 3"
    },
    "language_info": {
      "name": "python"
    }
  },
  "cells": [
    {
      "cell_type": "markdown",
      "source": [
        "**Converting xlsx files to csv file format**"
      ],
      "metadata": {
        "id": "XLnOWpMmizdd"
      }
    },
    {
      "cell_type": "code",
      "source": [
        "!pip install pandas"
      ],
      "metadata": {
        "colab": {
          "base_uri": "https://localhost:8080/"
        },
        "id": "kNXv_tW7nPk4",
        "outputId": "80d884e3-32d7-4e8c-84aa-3ce44e201bc8"
      },
      "execution_count": 6,
      "outputs": [
        {
          "output_type": "stream",
          "name": "stdout",
          "text": [
            "Looking in indexes: https://pypi.org/simple, https://us-python.pkg.dev/colab-wheels/public/simple/\n",
            "Requirement already satisfied: pandas in /usr/local/lib/python3.8/dist-packages (1.3.5)\n",
            "Requirement already satisfied: pytz>=2017.3 in /usr/local/lib/python3.8/dist-packages (from pandas) (2022.6)\n",
            "Requirement already satisfied: python-dateutil>=2.7.3 in /usr/local/lib/python3.8/dist-packages (from pandas) (2.8.2)\n",
            "Requirement already satisfied: numpy>=1.17.3 in /usr/local/lib/python3.8/dist-packages (from pandas) (1.21.6)\n",
            "Requirement already satisfied: six>=1.5 in /usr/local/lib/python3.8/dist-packages (from python-dateutil>=2.7.3->pandas) (1.15.0)\n"
          ]
        }
      ]
    },
    {
      "cell_type": "code",
      "execution_count": null,
      "metadata": {
        "id": "SbX69j4UiuY2"
      },
      "outputs": [],
      "source": [
        "import pandas as pd\n"
      ]
    },
    {
      "cell_type": "markdown",
      "source": [
        "**Import file to the xlsx and specified the path of csv**"
      ],
      "metadata": {
        "id": "9DRjrebWqJi-"
      }
    },
    {
      "cell_type": "code",
      "source": [
        "read_file = pd.read_excel (r'/content/fashion brand details.xlsx')\n",
        "read_file.to_csv (r'/content/fashion brand details.\\fashion brand details.csv', index = None, header=True)"
      ],
      "metadata": {
        "id": "_2holRCOjKrU"
      },
      "execution_count": 5,
      "outputs": []
    }
  ]
}