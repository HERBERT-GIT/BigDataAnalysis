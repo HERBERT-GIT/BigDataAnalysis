{
  "nbformat": 4,
  "nbformat_minor": 0,
  "metadata": {
    "colab": {
      "provenance": []
    },
    "kernelspec": {
      "name": "python3",
      "display_name": "Python 3"
    },
    "language_info": {
      "name": "python"
    }
  },
  "cells": [
    {
      "cell_type": "markdown",
      "source": [
        "# **Installing PySpark on Google Colab.**"
      ],
      "metadata": {
        "id": "GIIhyiGLyMkb"
      }
    },
    {
      "cell_type": "code",
      "execution_count": 2,
      "metadata": {
        "colab": {
          "base_uri": "https://localhost:8080/"
        },
        "id": "FiUsYgcpx9q3",
        "outputId": "b0dd3580-494f-4010-cf90-80cdf816c6b4"
      },
      "outputs": [
        {
          "output_type": "stream",
          "name": "stdout",
          "text": [
            "Looking in indexes: https://pypi.org/simple, https://us-python.pkg.dev/colab-wheels/public/simple/\n",
            "Collecting pyspark\n",
            "  Downloading pyspark-3.3.1.tar.gz (281.4 MB)\n",
            "\u001b[2K     \u001b[90m━━━━━━━━━━━━━━━━━━━━━━━━━━━━━━━━━━━━━━━\u001b[0m \u001b[32m281.4/281.4 MB\u001b[0m \u001b[31m4.8 MB/s\u001b[0m eta \u001b[36m0:00:00\u001b[0m\n",
            "\u001b[?25h  Preparing metadata (setup.py) ... \u001b[?25l\u001b[?25hdone\n",
            "Collecting py4j==0.10.9.5\n",
            "  Downloading py4j-0.10.9.5-py2.py3-none-any.whl (199 kB)\n",
            "\u001b[2K     \u001b[90m━━━━━━━━━━━━━━━━━━━━━━━━━━━━━━━━━━━━━━\u001b[0m \u001b[32m199.7/199.7 KB\u001b[0m \u001b[31m14.1 MB/s\u001b[0m eta \u001b[36m0:00:00\u001b[0m\n",
            "\u001b[?25hBuilding wheels for collected packages: pyspark\n",
            "  Building wheel for pyspark (setup.py) ... \u001b[?25l\u001b[?25hdone\n",
            "  Created wheel for pyspark: filename=pyspark-3.3.1-py2.py3-none-any.whl size=281845512 sha256=f96d79bc8742388fe285fbedf6e9535c1a98f6e46b629f9c53f49a22a21dd0db\n",
            "  Stored in directory: /root/.cache/pip/wheels/43/dc/11/ec201cd671da62fa9c5cc77078235e40722170ceba231d7598\n",
            "Successfully built pyspark\n",
            "Installing collected packages: py4j, pyspark\n",
            "Successfully installed py4j-0.10.9.5 pyspark-3.3.1\n"
          ]
        }
      ],
      "source": [
        "!pip install pyspark"
      ]
    },
    {
      "cell_type": "markdown",
      "source": [
        "# Creating a Spark session "
      ],
      "metadata": {
        "id": "BuV7_ZSAzYkX"
      }
    },
    {
      "cell_type": "code",
      "source": [
        "from pyspark.sql import SparkSession# Create a Spark Session\n",
        "spark = SparkSession.builder.master(\"local[*]\").getOrCreate()\n"
      ],
      "metadata": {
        "id": "j8Fzi9mUy9sL"
      },
      "execution_count": 3,
      "outputs": []
    },
    {
      "cell_type": "markdown",
      "source": [
        "# Starting Spark Session Information\n",
        "\n"
      ],
      "metadata": {
        "id": "Cw0t0vBH0WHW"
      }
    },
    {
      "cell_type": "code",
      "source": [
        "spark"
      ],
      "metadata": {
        "colab": {
          "base_uri": "https://localhost:8080/",
          "height": 219
        },
        "id": "zuW5ihOG0aTa",
        "outputId": "f84b6b7d-6467-494e-ff15-616ca0f0bbd3"
      },
      "execution_count": 4,
      "outputs": [
        {
          "output_type": "execute_result",
          "data": {
            "text/plain": [
              "<pyspark.sql.session.SparkSession at 0x7fb4d3ab4100>"
            ],
            "text/html": [
              "\n",
              "            <div>\n",
              "                <p><b>SparkSession - in-memory</b></p>\n",
              "                \n",
              "        <div>\n",
              "            <p><b>SparkContext</b></p>\n",
              "\n",
              "            <p><a href=\"http://ce44f7ea3429:4040\">Spark UI</a></p>\n",
              "\n",
              "            <dl>\n",
              "              <dt>Version</dt>\n",
              "                <dd><code>v3.3.1</code></dd>\n",
              "              <dt>Master</dt>\n",
              "                <dd><code>local[*]</code></dd>\n",
              "              <dt>AppName</dt>\n",
              "                <dd><code>pyspark-shell</code></dd>\n",
              "            </dl>\n",
              "        </div>\n",
              "        \n",
              "            </div>\n",
              "        "
            ]
          },
          "metadata": {},
          "execution_count": 4
        }
      ]
    },
    {
      "cell_type": "code",
      "source": [
        "!pip install pyspark --quiet\n",
        "!pip install -U -q PyDrive --quiet \n",
        "!apt install openjdk-8-jdk-headless &> /dev/null\n"
      ],
      "metadata": {
        "id": "nFuGosZdzgCQ"
      },
      "execution_count": 5,
      "outputs": []
    },
    {
      "cell_type": "code",
      "source": [
        "from pyspark.sql.functions import col"
      ],
      "metadata": {
        "id": "jgZMTA7dbsVL"
      },
      "execution_count": null,
      "outputs": []
    },
    {
      "cell_type": "markdown",
      "source": [
        "# Installing Java and Hadoop"
      ],
      "metadata": {
        "id": "kb-Qv7i7boVu"
      }
    },
    {
      "cell_type": "code",
      "source": [
        "import os\n",
        "os.environ[\"JAVA_HOME\"] = \"/usr/lib/jvm/java-8-openjdk-amd64\"\n",
        "os.environ[\"SPARK_HOME\"] = '/content/spark-3.2.1-bin-hadoop3.2'"
      ],
      "metadata": {
        "id": "O2ByPtQ4zldE"
      },
      "execution_count": null,
      "outputs": []
    },
    {
      "cell_type": "code",
      "source": [
        "spark = SparkSession.builder.master(\"local[*]\").getOrCreate()"
      ],
      "metadata": {
        "id": "a4zVuizIcJRK",
        "colab": {
          "base_uri": "https://localhost:8080/",
          "height": 165
        },
        "outputId": "c896b155-273d-4b2d-8429-86e052377e86"
      },
      "execution_count": 1,
      "outputs": [
        {
          "output_type": "error",
          "ename": "NameError",
          "evalue": "ignored",
          "traceback": [
            "\u001b[0;31m---------------------------------------------------------------------------\u001b[0m",
            "\u001b[0;31mNameError\u001b[0m                                 Traceback (most recent call last)",
            "\u001b[0;32m<ipython-input-1-f782e0e120f5>\u001b[0m in \u001b[0;36m<module>\u001b[0;34m\u001b[0m\n\u001b[0;32m----> 1\u001b[0;31m \u001b[0mspark\u001b[0m \u001b[0;34m=\u001b[0m \u001b[0mSparkSession\u001b[0m\u001b[0;34m.\u001b[0m\u001b[0mbuilder\u001b[0m\u001b[0;34m.\u001b[0m\u001b[0mmaster\u001b[0m\u001b[0;34m(\u001b[0m\u001b[0;34m\"local[*]\"\u001b[0m\u001b[0;34m)\u001b[0m\u001b[0;34m.\u001b[0m\u001b[0mgetOrCreate\u001b[0m\u001b[0;34m(\u001b[0m\u001b[0;34m)\u001b[0m\u001b[0;34m\u001b[0m\u001b[0;34m\u001b[0m\u001b[0m\n\u001b[0m",
            "\u001b[0;31mNameError\u001b[0m: name 'SparkSession' is not defined"
          ]
        }
      ]
    },
    {
      "cell_type": "code",
      "source": [
        "#from pyspark.sql import SparkSession\n",
        "\n",
        "spark = SparkSession \\\n",
        "    .builder \\\n",
        "    .appName(\"civComplaints\") \\\n",
        "    .config(\"spark.ui.port\", \"4050\") \\\n",
        "    .getOrCreate()"
      ],
      "metadata": {
        "id": "pGFnZM_fzpoE"
      },
      "execution_count": null,
      "outputs": []
    },
    {
      "cell_type": "code",
      "source": [
        "from pyspark.sql.functions import col\n"
      ],
      "metadata": {
        "id": "RkLZUMgh0q2z"
      },
      "execution_count": null,
      "outputs": []
    },
    {
      "cell_type": "markdown",
      "source": [
        "# Importing Dataset into Pyspark"
      ],
      "metadata": {
        "id": "fTvGfM4n2ulp"
      }
    },
    {
      "cell_type": "code",
      "source": [
        "Fashion_df1 = spark.read.csv('/content/fashion brand details.csv', inferSchema= True ,header= True)\n",
        "Fashion_df1.show()"
      ],
      "metadata": {
        "id": "7Qj-u2kC25t0",
        "colab": {
          "base_uri": "https://localhost:8080/"
        },
        "outputId": "19c1099a-53b7-47d2-de6f-9b080c40f2b3"
      },
      "execution_count": null,
      "outputs": [
        {
          "output_type": "stream",
          "name": "stdout",
          "text": [
            "+--------+--------------------+\n",
            "|brand_id|          brand_name|\n",
            "+--------+--------------------+\n",
            "|       1|                 513|\n",
            "|       2|                109F|\n",
            "|       3|           20Dresses|\n",
            "|       4|         250 Designs|\n",
            "|       5|                3Pin|\n",
            "|       6|       6Y Collective|\n",
            "|       7|     98 Degree North|\n",
            "|       8|          9Teenagain|\n",
            "|       9|      A Little Fable|\n",
            "|      10|            A.T.U.N.|\n",
            "|      11|             Aadvika|\n",
            "|      12|       Aadya Fashion|\n",
            "|      13|              Aahwan|\n",
            "|      14|              Aaliya|\n",
            "|      15|              Aarbee|\n",
            "|      16|              Aarika|\n",
            "|      17|    Aarke Ritu Kumar|\n",
            "|      18|                Aasi|\n",
            "|      19|Aasi - House Of Nayo|\n",
            "|      20|              Aasiya|\n",
            "+--------+--------------------+\n",
            "only showing top 20 rows\n",
            "\n"
          ]
        }
      ]
    },
    {
      "cell_type": "markdown",
      "source": [
        "\n",
        "# Checking the Data type if correct"
      ],
      "metadata": {
        "id": "WY--RNjMcgKW"
      }
    },
    {
      "cell_type": "code",
      "source": [
        "Fashion_df1.printSchema()\n",
        "Fashion_df1.show(5)\n"
      ],
      "metadata": {
        "id": "7oVw9CCBTdds",
        "colab": {
          "base_uri": "https://localhost:8080/"
        },
        "outputId": "67956b50-4cd5-4160-9105-a15fa1e83512"
      },
      "execution_count": null,
      "outputs": [
        {
          "output_type": "stream",
          "name": "stdout",
          "text": [
            "root\n",
            " |-- brand_id: integer (nullable = true)\n",
            " |-- brand_name: string (nullable = true)\n",
            "\n",
            "+--------+-----------+\n",
            "|brand_id| brand_name|\n",
            "+--------+-----------+\n",
            "|       1|        513|\n",
            "|       2|       109F|\n",
            "|       3|  20Dresses|\n",
            "|       4|250 Designs|\n",
            "|       5|       3Pin|\n",
            "+--------+-----------+\n",
            "only showing top 5 rows\n",
            "\n"
          ]
        }
      ]
    },
    {
      "cell_type": "code",
      "source": [
        "Fashion_df1.describe()"
      ],
      "metadata": {
        "id": "SwvhtUEbiIDh",
        "colab": {
          "base_uri": "https://localhost:8080/"
        },
        "outputId": "22f6129f-8181-4f59-a9a3-41b45a251065"
      },
      "execution_count": null,
      "outputs": [
        {
          "output_type": "execute_result",
          "data": {
            "text/plain": [
              "DataFrame[summary: string, brand_id: string, brand_name: string]"
            ]
          },
          "metadata": {},
          "execution_count": 14
        }
      ]
    },
    {
      "cell_type": "markdown",
      "source": [
        "## Finding and counting the number of Null, None, and NaN in the DataFrame for fashion brand details dataset"
      ],
      "metadata": {
        "id": "jgHzvqvjekoz"
      }
    },
    {
      "cell_type": "code",
      "source": [
        "from pyspark.sql.functions import col,isnan,when,count\n",
        "df1 = Fashion_df1.select([count(when(col(c).contains('None') | \\\n",
        "                            col(c).contains('NULL') | \\\n",
        "                            (col(c) == '' ) | \\\n",
        "                            col(c).isNull() | \\\n",
        "                            isnan(c), c \n",
        "                           )).alias(c)\n",
        "                    for c in Fashion_df1.columns])\n",
        "df1.show()\n",
        "Fashion_df1.show(5)\n",
        "Fashion_df1.printSchema()"
      ],
      "metadata": {
        "id": "wdw_-TNBeGy7",
        "colab": {
          "base_uri": "https://localhost:8080/"
        },
        "outputId": "83591806-8ced-4ad3-c82f-81cd045e24b3"
      },
      "execution_count": null,
      "outputs": [
        {
          "output_type": "stream",
          "name": "stdout",
          "text": [
            "+--------+----------+\n",
            "|brand_id|brand_name|\n",
            "+--------+----------+\n",
            "|       0|         0|\n",
            "+--------+----------+\n",
            "\n",
            "+--------+-----------+\n",
            "|brand_id| brand_name|\n",
            "+--------+-----------+\n",
            "|       1|        513|\n",
            "|       2|       109F|\n",
            "|       3|  20Dresses|\n",
            "|       4|250 Designs|\n",
            "|       5|       3Pin|\n",
            "+--------+-----------+\n",
            "only showing top 5 rows\n",
            "\n",
            "root\n",
            " |-- brand_id: integer (nullable = true)\n",
            " |-- brand_name: string (nullable = true)\n",
            "\n"
          ]
        }
      ]
    },
    {
      "cell_type": "markdown",
      "source": [
        "# Number of rows in DF"
      ],
      "metadata": {
        "id": "vCRCeLn9Z6Qb"
      }
    },
    {
      "cell_type": "code",
      "source": [
        "print(\"The Number of rows in the Fashion brand details Dataset: \", Fashion_df1.count())"
      ],
      "metadata": {
        "colab": {
          "base_uri": "https://localhost:8080/"
        },
        "id": "CrsxBHFVaEGe",
        "outputId": "352c393d-56e3-493c-d80b-5736496538bb"
      },
      "execution_count": null,
      "outputs": [
        {
          "output_type": "stream",
          "name": "stdout",
          "text": [
            "The Number of rows in the Fashion brand details Dataset:  1020\n"
          ]
        }
      ]
    },
    {
      "cell_type": "code",
      "source": [
        "Fashion_df1.describe().show()"
      ],
      "metadata": {
        "colab": {
          "base_uri": "https://localhost:8080/"
        },
        "id": "9Qv8mCP4bX31",
        "outputId": "ef057f92-ecf5-42c3-fac9-658f9bdc896c"
      },
      "execution_count": null,
      "outputs": [
        {
          "output_type": "stream",
          "name": "stdout",
          "text": [
            "+-------+-----------------+-----------------+\n",
            "|summary|         brand_id|       brand_name|\n",
            "+-------+-----------------+-----------------+\n",
            "|  count|             1020|             1020|\n",
            "|   mean|            510.5|            311.0|\n",
            "| stddev|294.5929394944828|285.6711395993652|\n",
            "|    min|                1|             109F|\n",
            "|    max|             1020|             Zola|\n",
            "+-------+-----------------+-----------------+\n",
            "\n"
          ]
        }
      ]
    },
    {
      "cell_type": "markdown",
      "source": [
        "# Importing the Second Dataset fashion dataset.csv"
      ],
      "metadata": {
        "id": "zBSlKcUcDiQ_"
      }
    },
    {
      "cell_type": "code",
      "source": [
        "Fashion_df2 = spark.read.csv('/content/fashion dataset.csv', inferSchema= True ,header= True)\n",
        "Fashion_df2.show(10)"
      ],
      "metadata": {
        "colab": {
          "base_uri": "https://localhost:8080/"
        },
        "id": "UJ6FX55jDRI3",
        "outputId": "a939b5ce-e206-4af2-e96e-2de8570ebb10"
      },
      "execution_count": null,
      "outputs": [
        {
          "output_type": "stream",
          "name": "stdout",
          "text": [
            "+--------+--------------------+-----+-------+--------------+-----------+-----------+--------------------+--------------------+\n",
            "|    p_id|                name|price| colour|         brand|ratingCount| avg_rating|         description|        p_attributes|\n",
            "+--------+--------------------+-----+-------+--------------+-----------+-----------+--------------------+--------------------+\n",
            "| 1518329|Dupatta Bazaar Wh...|  899|  White|Dupatta Bazaar|       1321|4.548826646|White embroidered...|{'Occasion': 'Dai...|\n",
            "| 5829334|Roadster Women Mu...| 1199|Mustard|      Roadster|       5462|4.313255218|\"Mustard yellow s...|{'Body Shape ID':...|\n",
            "|10340119|Inddus Peach-Colo...| 5799|  Peach|        Inddus|        145|4.068965517|Peach-Coloured an...|{'Bottom Fabric':...|\n",
            "|10856380|SASSAFRAS Women B...| 1499|  Black|     SASSAFRAS|       9124|4.147523016|\"Black solid wove...|{'Add-Ons': 'NA',...|\n",
            "|12384822|Kotty Women Black...| 1999|  Black|         Kotty|      12260|4.078466558|\"Black dark wash ...|{'Add-Ons': 'NA',...|\n",
            "|12742100|KASSUALLY Women B...| 2199|  Black|     KASSUALLY|       6297|4.349213911|Black printed bas...|{'Body or Garment...|\n",
            "|13842966|Sassafras Brown &...| 1499|  Brown|     SASSAFRAS|       7358|4.395351998|<ul><li>Brown and...|{'Body Shape ID':...|\n",
            "|14021452|Sera Women Multic...| 1494|  Multi|          Sera|        750|      4.288|Brown and blue pr...|{'Body or Garment...|\n",
            "|14063026|Tokyo Talkies Wom...|  699|  Black| Tokyo Talkies|       1856|4.530711207|\"Black solid mid-...|{'Body or Garment...|\n",
            "|14324806|Anouk Stylish Bla...| 4699|  Black|         Anouk|         84| 3.80952381|Stay fashionable ...|{'Blouse Closure'...|\n",
            "+--------+--------------------+-----+-------+--------------+-----------+-----------+--------------------+--------------------+\n",
            "only showing top 10 rows\n",
            "\n"
          ]
        }
      ]
    },
    {
      "cell_type": "markdown",
      "source": [
        "# Finding and counting the number of Null, None, and NaN in the DataFrame for fashion dataset "
      ],
      "metadata": {
        "id": "bqBxVzsXFIuF"
      }
    },
    {
      "cell_type": "code",
      "source": [
        "from pyspark.sql.functions import col,isnan,when,count\n",
        "df2 = Fashion_df2.select([count(when(col(c).contains('None') | \\\n",
        "                            col(c).contains('NULL') | \\\n",
        "                            (col(c) == '' ) | \\\n",
        "                            col(c).isNull() | \\\n",
        "                            isnan(c), c \n",
        "                           )).alias(c)\n",
        "                    for c in Fashion_df2.columns])\n",
        "#print(\"The Value of Null in the dataset \",dfA2.show())\n",
        "df2.show()\n"
      ],
      "metadata": {
        "colab": {
          "base_uri": "https://localhost:8080/"
        },
        "id": "JOXglRO5Hq6g",
        "outputId": "ddec9b22-ae72-4cf3-ff8a-8688ace4fc63"
      },
      "execution_count": null,
      "outputs": [
        {
          "output_type": "stream",
          "name": "stdout",
          "text": [
            "+----+----+-----+------+-----+-----------+----------+-----------+------------+\n",
            "|p_id|name|price|colour|brand|ratingCount|avg_rating|description|p_attributes|\n",
            "+----+----+-----+------+-----+-----------+----------+-----------+------------+\n",
            "| 443|  33|  444|   431|  446|       8173|      8173|        443|        1619|\n",
            "+----+----+-----+------+-----+-----------+----------+-----------+------------+\n",
            "\n"
          ]
        }
      ]
    },
    {
      "cell_type": "markdown",
      "source": [
        "# The total Numbers of rows"
      ],
      "metadata": {
        "id": "dX_w7SSDqGB_"
      }
    },
    {
      "cell_type": "code",
      "source": [
        "Fashion_df2.count()\n",
        "print (\"The total Numbers of rows is :\", Fashion_df2.count())"
      ],
      "metadata": {
        "colab": {
          "base_uri": "https://localhost:8080/"
        },
        "id": "_NUeE1Dtn1Sa",
        "outputId": "67328439-0508-4f29-dcbf-9e8f6b3a28a4"
      },
      "execution_count": null,
      "outputs": [
        {
          "output_type": "stream",
          "name": "stdout",
          "text": [
            "The total Numbers of rows is : 14754\n"
          ]
        }
      ]
    },
    {
      "cell_type": "code",
      "source": [
        "Fashion_df2.describe().show()"
      ],
      "metadata": {
        "colab": {
          "base_uri": "https://localhost:8080/"
        },
        "id": "N0nAKFyIhrXI",
        "outputId": "b1d06680-ce13-4ada-c389-885a39832321"
      },
      "execution_count": null,
      "outputs": [
        {
          "output_type": "stream",
          "name": "stdout",
          "text": [
            "+-------+--------------------+--------------------+--------------------+--------------------+--------------------+--------------------+--------------------+--------------------+--------------------+\n",
            "|summary|                p_id|                name|               price|              colour|               brand|         ratingCount|          avg_rating|         description|        p_attributes|\n",
            "+-------+--------------------+--------------------+--------------------+--------------------+--------------------+--------------------+--------------------+--------------------+--------------------+\n",
            "|  count|               14736|               14721|               14403|               14323|               14308|                6584|                6584|               14311|               13900|\n",
            "|   mean|1.5691291900496121E7|                null|  2964.1684835779174|                null|               270.6|  184.47941042394774|  4.1012258658981935|                null|                null|\n",
            "| stddev|   3153525.155166516|                null|  2564.0148505973716|                null|  221.27991323208713|    782.501136511221| 0.47563329373791424|                null|                null|\n",
            "|    min| The model (heigh...|            10% Silk| 'Blouse Fabric':...| 'Border': 'Printed'| 'Care for me': 'NA'| 'Multipack Set':...| 'Occasion': 'Fes...| 'Ornamentation':...| 'Pattern': 'Prin...|\n",
            "|    max|Width)</p><p>Silk...|{'Bottom Fabric':...|{'Blouse': 'NA', ...|{'Blouse': 'Blous...|              zink Z|                 998|                   5|woven design lehe...|{'Pattern': 'Solid'}|\n",
            "+-------+--------------------+--------------------+--------------------+--------------------+--------------------+--------------------+--------------------+--------------------+--------------------+\n",
            "\n"
          ]
        }
      ]
    },
    {
      "cell_type": "code",
      "source": [
        "Fashion_df2.printSchema()\n",
        "print(\"This is the number of Rows of the fashion dataset:\", Fashion_df2.count())"
      ],
      "metadata": {
        "colab": {
          "base_uri": "https://localhost:8080/"
        },
        "id": "FlxQJbs7pnXs",
        "outputId": "b69b9cb2-158a-476d-8ff3-e9433273c41b"
      },
      "execution_count": null,
      "outputs": [
        {
          "output_type": "stream",
          "name": "stdout",
          "text": [
            "root\n",
            " |-- p_id: string (nullable = true)\n",
            " |-- name: string (nullable = true)\n",
            " |-- price: string (nullable = true)\n",
            " |-- colour: string (nullable = true)\n",
            " |-- brand: string (nullable = true)\n",
            " |-- ratingCount: string (nullable = true)\n",
            " |-- avg_rating: string (nullable = true)\n",
            " |-- description: string (nullable = true)\n",
            " |-- p_attributes: string (nullable = true)\n",
            "\n",
            "This is the number of Rows of the fashion dataset: 14754\n"
          ]
        }
      ]
    },
    {
      "cell_type": "markdown",
      "source": [
        "# Cast Datatype from to another type"
      ],
      "metadata": {
        "id": "VpwviVEbvclo"
      }
    },
    {
      "cell_type": "code",
      "source": [
        "Fashion_df2 = Fashion_df2.withColumn(\"p_id\", \n",
        "                                  Fashion_df2[\"p_id\"]\n",
        "                                  .cast('int'))\n",
        "Fashion_df2 = Fashion_df2.withColumn(\"price\", \n",
        "                                  Fashion_df2[\"price\"]\n",
        "                                  .cast('int'))\n",
        "Fashion_df2 = Fashion_df2.withColumn(\"ratingCount\", \n",
        "                                  Fashion_df2[\"ratingCount\"]\n",
        "                                  .cast('int'))\n",
        "Fashion_df2 = Fashion_df2.withColumn(\"avg_rating\", \n",
        "                                  Fashion_df2[\"avg_rating\"]\n",
        "                                  .cast('float'))\n"
      ],
      "metadata": {
        "id": "VQ3MPztoEc6I"
      },
      "execution_count": null,
      "outputs": []
    },
    {
      "cell_type": "markdown",
      "source": [
        "# Checking the result of the Data type"
      ],
      "metadata": {
        "id": "PBfh94NLHnZR"
      }
    },
    {
      "cell_type": "code",
      "source": [
        "Fashion_df2.printSchema()\n",
        "print(\"This is the number of Rows of the fashion dataset:\", Fashion_df2.count())"
      ],
      "metadata": {
        "colab": {
          "base_uri": "https://localhost:8080/"
        },
        "id": "KHahMWkFHma8",
        "outputId": "8ea69ec0-5142-4bd7-9334-3d6212a88194"
      },
      "execution_count": null,
      "outputs": [
        {
          "output_type": "stream",
          "name": "stdout",
          "text": [
            "root\n",
            " |-- p_id: integer (nullable = true)\n",
            " |-- name: string (nullable = true)\n",
            " |-- price: integer (nullable = true)\n",
            " |-- colour: string (nullable = true)\n",
            " |-- brand: string (nullable = true)\n",
            " |-- ratingCount: integer (nullable = true)\n",
            " |-- avg_rating: float (nullable = true)\n",
            " |-- description: string (nullable = true)\n",
            " |-- p_attributes: string (nullable = true)\n",
            "\n",
            "This is the number of Rows of the fashion dataset: 14754\n"
          ]
        }
      ]
    },
    {
      "cell_type": "markdown",
      "source": [
        "This shows that the dataset fashion brand details is cleaned and no null values"
      ],
      "metadata": {
        "id": "tygyfq8MKK2P"
      }
    },
    {
      "cell_type": "markdown",
      "source": [
        "# Converting the Dataframe into Table"
      ],
      "metadata": {
        "id": "-I-rotpuMpJI"
      }
    },
    {
      "cell_type": "code",
      "source": [
        "Fashion_df2.show()\n",
        "Fashion_df1.show()"
      ],
      "metadata": {
        "colab": {
          "base_uri": "https://localhost:8080/"
        },
        "id": "Bj4hRyLoM3v8",
        "outputId": "e60d22e8-95c7-46bc-9f1c-63745c1bfb9c"
      },
      "execution_count": null,
      "outputs": [
        {
          "output_type": "stream",
          "name": "stdout",
          "text": [
            "+--------+--------------------+-----+-------+--------------+-----------+----------+--------------------+--------------------+\n",
            "|    p_id|                name|price| colour|         brand|ratingCount|avg_rating|         description|        p_attributes|\n",
            "+--------+--------------------+-----+-------+--------------+-----------+----------+--------------------+--------------------+\n",
            "| 1518329|Dupatta Bazaar Wh...|  899|  White|Dupatta Bazaar|       1321| 4.5488267|White embroidered...|{'Occasion': 'Dai...|\n",
            "| 5829334|Roadster Women Mu...| 1199|Mustard|      Roadster|       5462| 4.3132553|\"Mustard yellow s...|{'Body Shape ID':...|\n",
            "|10340119|Inddus Peach-Colo...| 5799|  Peach|        Inddus|        145| 4.0689654|Peach-Coloured an...|{'Bottom Fabric':...|\n",
            "|10856380|SASSAFRAS Women B...| 1499|  Black|     SASSAFRAS|       9124|  4.147523|\"Black solid wove...|{'Add-Ons': 'NA',...|\n",
            "|12384822|Kotty Women Black...| 1999|  Black|         Kotty|      12260| 4.0784664|\"Black dark wash ...|{'Add-Ons': 'NA',...|\n",
            "|12742100|KASSUALLY Women B...| 2199|  Black|     KASSUALLY|       6297|  4.349214|Black printed bas...|{'Body or Garment...|\n",
            "|13842966|Sassafras Brown &...| 1499|  Brown|     SASSAFRAS|       7358|  4.395352|<ul><li>Brown and...|{'Body Shape ID':...|\n",
            "|14021452|Sera Women Multic...| 1494|  Multi|          Sera|        750|     4.288|Brown and blue pr...|{'Body or Garment...|\n",
            "|14063026|Tokyo Talkies Wom...|  699|  Black| Tokyo Talkies|       1856|  4.530711|\"Black solid mid-...|{'Body or Garment...|\n",
            "|14324806|Anouk Stylish Bla...| 4699|  Black|         Anouk|         84| 3.8095238|Stay fashionable ...|{'Blouse Closure'...|\n",
            "|14955068|Roadster Women El...| 2599|  Mauve|      Roadster|        752| 4.2114363|Add a hint of dra...|{'Add-Ons': 'NA',...|\n",
            "|16595858|Saree Mall Floral...| 3599|   Pink|    Saree mall|       1005| 3.9800994|Dress up or dress...|{'Blouse': 'Blous...|\n",
            "|16827132|Tokyo Talkies Wom...| 1399| Maroon| Tokyo Talkies|        125|     3.912|<p>Maroon solid r...|{'Body Shape ID':...|\n",
            "|17048614|Khushal K Women B...| 5099|  Black|     Khushal K|       4522|  4.418399|Black printed Kur...|{'Add-Ons': 'NA',...|\n",
            "|17413232|Anubhutee Pink Et...| 1739|   Pink|     Anubhutee|        273| 4.2490845|\"<ul> <li> Pink s...|{'Body or Garment...|\n",
            "|18601482|MONTREZ Women Whi...| 1999|  White|       MONTREZ|         61|  4.377049|White graphic pri...|{'Add-Ons': 'NA',...|\n",
            "|18841352|Styli Women Golde...| 1949|   Gold|         Styli|       null|      null|\"<p>Golden sequin...|{'Add-Ons': 'NA',...|\n",
            "| 8317561|Chemistry Blue De...| 1699|   Blue|     Chemistry|        900| 4.3144445|\"Blue&nbsp;solid ...| 2% elastane<br>M...|\n",
            "| 8340727|Inddus Women Dust...| 6549|   Pink|        Inddus|        636| 3.9858491|\"Dusty Pink semi-...|{'Blouse Closure'...|\n",
            "|10856322|SASSAFRAS Women B...| 1799|  Black|     SASSAFRAS|       4458|  4.478017|Black ribbed open...|{'Body or Garment...|\n",
            "+--------+--------------------+-----+-------+--------------+-----------+----------+--------------------+--------------------+\n",
            "only showing top 20 rows\n",
            "\n",
            "+--------+--------------------+\n",
            "|brand_id|          brand_name|\n",
            "+--------+--------------------+\n",
            "|       1|                 513|\n",
            "|       2|                109F|\n",
            "|       3|           20Dresses|\n",
            "|       4|         250 Designs|\n",
            "|       5|                3Pin|\n",
            "|       6|       6Y Collective|\n",
            "|       7|     98 Degree North|\n",
            "|       8|          9Teenagain|\n",
            "|       9|      A Little Fable|\n",
            "|      10|            A.T.U.N.|\n",
            "|      11|             Aadvika|\n",
            "|      12|       Aadya Fashion|\n",
            "|      13|              Aahwan|\n",
            "|      14|              Aaliya|\n",
            "|      15|              Aarbee|\n",
            "|      16|              Aarika|\n",
            "|      17|    Aarke Ritu Kumar|\n",
            "|      18|                Aasi|\n",
            "|      19|Aasi - House Of Nayo|\n",
            "|      20|              Aasiya|\n",
            "+--------+--------------------+\n",
            "only showing top 20 rows\n",
            "\n"
          ]
        }
      ]
    },
    {
      "cell_type": "code",
      "source": [],
      "metadata": {
        "id": "a9UpoMhRNgsg"
      },
      "execution_count": null,
      "outputs": []
    },
    {
      "cell_type": "markdown",
      "source": [
        "# Converting the Dataframe into Table in order to use SQL queries in pyspark "
      ],
      "metadata": {
        "id": "cCX1t7QjTjfo"
      }
    },
    {
      "cell_type": "code",
      "source": [
        "Fashion_df1.createOrReplaceTempView(\"brands\")"
      ],
      "metadata": {
        "id": "JaiImeLvT7HU"
      },
      "execution_count": null,
      "outputs": []
    },
    {
      "cell_type": "code",
      "source": [
        "Fashion_df2.createOrReplaceTempView(\"products\")"
      ],
      "metadata": {
        "id": "tqGqwa9rcoXr"
      },
      "execution_count": null,
      "outputs": []
    },
    {
      "cell_type": "markdown",
      "source": [
        "# SQL query to joint the two table "
      ],
      "metadata": {
        "id": "jvSIO-hcY5Dr"
      }
    },
    {
      "cell_type": "code",
      "source": [
        "Fashion_df1.createOrReplaceTempView(\"brands\")\n",
        "Fashion_df2.createOrReplaceTempView(\"products\")\n",
        "jointtable=spark.sql(\"SELECT * FROM brands RIGHT JOIN products ON brands.brand_name == products.brand\")"
      ],
      "metadata": {
        "id": "IoK-354U6GNa"
      },
      "execution_count": null,
      "outputs": []
    },
    {
      "cell_type": "code",
      "source": [
        "jointtable.describe().show()"
      ],
      "metadata": {
        "colab": {
          "base_uri": "https://localhost:8080/"
        },
        "id": "Ll5gCO5lVbRJ",
        "outputId": "eb58feb8-f8d9-40f7-e70e-6d7a75361d49"
      },
      "execution_count": null,
      "outputs": [
        {
          "output_type": "stream",
          "name": "stdout",
          "text": [
            "+-------+------------------+------------------+--------------------+--------------------+------------------+--------------------+--------------------+------------------+-------------------+--------------------+--------------------+\n",
            "|summary|          brand_id|        brand_name|                p_id|                name|             price|              colour|               brand|       ratingCount|         avg_rating|         description|        p_attributes|\n",
            "+-------+------------------+------------------+--------------------+--------------------+------------------+--------------------+--------------------+------------------+-------------------+--------------------+--------------------+\n",
            "|  count|              8098|              8098|               14311|               14721|             14310|               14323|               14308|              6581|               6581|               14311|               13900|\n",
            "|   mean| 524.4328229192394|             270.6|1.5691291900496121E7|                null|2964.1684835779174|                null|               270.6|184.47941042394774|  4.101225865084682|                null|                null|\n",
            "| stddev|299.71677626472217|221.27991323208713|   3153525.155166516|                null|2564.0148505973716|                null|  221.27991323208713|  782.501136511221|0.47563329661941994|                null|                null|\n",
            "|    min|                 1|              109F|               70166|            10% Silk|               169| 'Border': 'Printed'| 'Care for me': 'NA'|                 1|                1.0| 'Ornamentation':...| 'Pattern': 'Prin...|\n",
            "|    max|              1017|            Zivame|            19415760|{'Bottom Fabric':...|             47999|{'Blouse': 'Blous...|              zink Z|             21274|                5.0|woven design lehe...|{'Pattern': 'Solid'}|\n",
            "+-------+------------------+------------------+--------------------+--------------------+------------------+--------------------+--------------------+------------------+-------------------+--------------------+--------------------+\n",
            "\n"
          ]
        }
      ]
    },
    {
      "cell_type": "code",
      "source": [
        "jointtable.printSchema()"
      ],
      "metadata": {
        "colab": {
          "base_uri": "https://localhost:8080/"
        },
        "id": "orZIPLCyVjI4",
        "outputId": "f2f8d69f-6a4c-44b7-cb16-6989a0bf31d6"
      },
      "execution_count": null,
      "outputs": [
        {
          "output_type": "stream",
          "name": "stdout",
          "text": [
            "root\n",
            " |-- brand_id: integer (nullable = true)\n",
            " |-- brand_name: string (nullable = true)\n",
            " |-- p_id: integer (nullable = true)\n",
            " |-- name: string (nullable = true)\n",
            " |-- price: integer (nullable = true)\n",
            " |-- colour: string (nullable = true)\n",
            " |-- brand: string (nullable = true)\n",
            " |-- ratingCount: integer (nullable = true)\n",
            " |-- avg_rating: float (nullable = true)\n",
            " |-- description: string (nullable = true)\n",
            " |-- p_attributes: string (nullable = true)\n",
            "\n"
          ]
        }
      ]
    },
    {
      "cell_type": "markdown",
      "source": [
        "# Joint table convert to pandas"
      ],
      "metadata": {
        "id": "Sm2Bs15CYm_9"
      }
    },
    {
      "cell_type": "code",
      "source": [
        "convert2_DF = jointtable.toPandas()\n",
        "print(convert2_DF)"
      ],
      "metadata": {
        "colab": {
          "base_uri": "https://localhost:8080/"
        },
        "id": "yv_aoAA-4XE8",
        "outputId": "94cca736-9a2e-4c61-d0b8-c5a184172f96"
      },
      "execution_count": null,
      "outputs": [
        {
          "output_type": "stream",
          "name": "stdout",
          "text": [
            "       brand_id         brand_name        p_id  \\\n",
            "0         242.0     Dupatta Bazaar   1518329.0   \n",
            "1         750.0           Roadster   5829334.0   \n",
            "2         389.0             Inddus  10340119.0   \n",
            "3           NaN               None  10856380.0   \n",
            "4         482.0              Kotty  12384822.0   \n",
            "...         ...                ...         ...   \n",
            "14749     880.0  The Chennai Silks  17029604.0   \n",
            "14750     471.0        Kinder Kids  17600212.0   \n",
            "14751       NaN               None  18159266.0   \n",
            "14752       NaN               None  18921114.0   \n",
            "14753       NaN               None  19361058.0   \n",
            "\n",
            "                                                    name   price     colour  \\\n",
            "0       Dupatta Bazaar White Embroidered Chiffon Dupatta   899.0      White   \n",
            "1      Roadster Women Mustard Yellow Solid Hooded Swe...  1199.0    Mustard   \n",
            "2      Inddus Peach-Coloured & Beige Unstitched Dress...  5799.0      Peach   \n",
            "3                SASSAFRAS Women Black Parallel Trousers  1499.0      Black   \n",
            "4      Kotty Women Black Wide Leg High-Rise Clean Loo...  1999.0      Black   \n",
            "...                                                  ...     ...        ...   \n",
            "14749  The Chennai Silks Pink & Silver-Toned Floral Z...  3999.0       Pink   \n",
            "14750  Kinder Kids Girls Blue & Green Printed Foil Pr...  2050.0       Blue   \n",
            "14751  KLOTTHE Women Green & Black Floral Printed Pal...  1659.0      Green   \n",
            "14752             InWeave Women Red Printed A-Line Skirt  2399.0        Red   \n",
            "14753      BoStreet Women Navy Blue Tapered Fit Trousers  2599.0  Navy Blue   \n",
            "\n",
            "                   brand  ratingCount  avg_rating  \\\n",
            "0         Dupatta Bazaar       1321.0    4.548827   \n",
            "1               Roadster       5462.0    4.313255   \n",
            "2                 Inddus        145.0    4.068965   \n",
            "3              SASSAFRAS       9124.0    4.147523   \n",
            "4                  Kotty      12260.0    4.078466   \n",
            "...                  ...          ...         ...   \n",
            "14749  The Chennai Silks          NaN         NaN   \n",
            "14750        Kinder Kids          NaN         NaN   \n",
            "14751            KLOTTHE          NaN         NaN   \n",
            "14752            InWeave          NaN         NaN   \n",
            "14753           BoStreet          NaN         NaN   \n",
            "\n",
            "                                             description  \\\n",
            "0      White embroidered&nbsp;dupattaChiffon<br>Hand-...   \n",
            "1      \"Mustard yellow solid sweatshirt, has a hood, ...   \n",
            "2      Peach-Coloured and beige woven design unstitch...   \n",
            "3      \"Black solid woven high-rise parallel trousers...   \n",
            "4      \"Black dark wash 4-pocket high-rise jeans, cle...   \n",
            "...                                                  ...   \n",
            "14749  <b>Design Details </b><ul><li>Pink and silver-...   \n",
            "14750  Blue and green printed lehenga choli,  has foi...   \n",
            "14751  <ul> <li> Green and black woven palazzos </li>...   \n",
            "14752  \"<p>Red printed A-line skirt, has drawstring c...   \n",
            "14753  <ul> <li> Navy blue knitted trousers </li> <li...   \n",
            "\n",
            "                                            p_attributes  \n",
            "0      {'Occasion': 'Daily', 'Pattern': 'Embroidered'...  \n",
            "1      {'Body Shape ID': '443,424,324', 'Body or Garm...  \n",
            "2      {'Bottom Fabric': 'Cotton Blend', 'Bottom Patt...  \n",
            "3      {'Add-Ons': 'NA', 'Body Shape ID': '424', 'Bod...  \n",
            "4      {'Add-Ons': 'NA', 'Brand Fit Name': 'NA', 'Clo...  \n",
            "...                                                  ...  \n",
            "14749  {'Better Cotton Initiative': 'Regular', 'Blous...  \n",
            "14750  {'Blouse Closure': 'NA', 'Blouse Fabric': 'Cot...  \n",
            "14751  {'Body or Garment Size': 'To-Fit Denotes Body ...  \n",
            "14752  {'Add-Ons': 'NA', 'Body Shape ID': '324,333,42...  \n",
            "14753  {'Add-Ons': 'NA', 'Body Shape ID': '443,333,42...  \n",
            "\n",
            "[14754 rows x 11 columns]\n"
          ]
        }
      ]
    },
    {
      "cell_type": "markdown",
      "source": [
        "# Writing to CSV "
      ],
      "metadata": {
        "id": "uJPNjShgZQME"
      }
    },
    {
      "cell_type": "code",
      "source": [
        "convert2_DF.to_csv(\"/content/fashionnew5.csv\")\n"
      ],
      "metadata": {
        "id": "n84t4a9IDp8m"
      },
      "execution_count": null,
      "outputs": []
    },
    {
      "cell_type": "code",
      "source": [
        "#spark.sql(\"select * from brands limit 10\").show()"
      ],
      "metadata": {
        "id": "o3XUDwyYe2SI"
      },
      "execution_count": null,
      "outputs": []
    },
    {
      "cell_type": "markdown",
      "source": [],
      "metadata": {
        "id": "TsDU37YY5j4G"
      }
    },
    {
      "cell_type": "code",
      "source": [
        "#spark.sql(\"SELECT * FROM products \").show()"
      ],
      "metadata": {
        "id": "Q5066hskYroe"
      },
      "execution_count": null,
      "outputs": []
    },
    {
      "cell_type": "markdown",
      "source": [
        "# Pyspark sql  to change the header name using SQL quaries ."
      ],
      "metadata": {
        "id": "OrUZZayK4Hwl"
      }
    },
    {
      "cell_type": "code",
      "source": [
        "df2.printSchema()"
      ],
      "metadata": {
        "colab": {
          "base_uri": "https://localhost:8080/"
        },
        "id": "6-VsRcF3S1zG",
        "outputId": "e53424b3-054a-4e5a-c434-f4aac628199d"
      },
      "execution_count": null,
      "outputs": [
        {
          "output_type": "stream",
          "name": "stdout",
          "text": [
            "root\n",
            " |-- p_id: long (nullable = false)\n",
            " |-- name: long (nullable = false)\n",
            " |-- price: long (nullable = false)\n",
            " |-- colour: long (nullable = false)\n",
            " |-- brand: long (nullable = false)\n",
            " |-- ratingCount: long (nullable = false)\n",
            " |-- avg_rating: long (nullable = false)\n",
            " |-- description: long (nullable = false)\n",
            " |-- p_attributes: long (nullable = false)\n",
            "\n"
          ]
        }
      ]
    },
    {
      "cell_type": "code",
      "source": [
        "df2.show()"
      ],
      "metadata": {
        "colab": {
          "base_uri": "https://localhost:8080/"
        },
        "id": "mxWKqXIOTJCo",
        "outputId": "06a9dee3-d8fe-4557-c90e-63286c7ea9c9"
      },
      "execution_count": null,
      "outputs": [
        {
          "output_type": "stream",
          "name": "stdout",
          "text": [
            "+----+----+-----+------+-----+-----------+----------+-----------+------------+\n",
            "|p_id|name|price|colour|brand|ratingCount|avg_rating|description|p_attributes|\n",
            "+----+----+-----+------+-----+-----------+----------+-----------+------------+\n",
            "|  18|  33|  351|   431|  446|       8170|      8170|        443|        1619|\n",
            "+----+----+-----+------+-----+-----------+----------+-----------+------------+\n",
            "\n"
          ]
        }
      ]
    },
    {
      "cell_type": "markdown",
      "source": [],
      "metadata": {
        "id": "jhK22rKVTU4u"
      }
    },
    {
      "cell_type": "code",
      "source": [
        "df1=spark.sql(\"SELECT brand_id, LOWER(brand_name) AS brand FROM brands\")"
      ],
      "metadata": {
        "id": "oguoMQJpTSyx"
      },
      "execution_count": null,
      "outputs": []
    },
    {
      "cell_type": "code",
      "source": [
        "df1.show(12)\n",
        "df1.printSchema()"
      ],
      "metadata": {
        "id": "A0QOqNlaTjQt"
      },
      "execution_count": null,
      "outputs": []
    },
    {
      "cell_type": "markdown",
      "source": [
        "# Joining the Two Dataset Fashion brand detail as df1 and Fashion dataset as df2"
      ],
      "metadata": {
        "id": "TGhERrhjI537"
      }
    },
    {
      "cell_type": "code",
      "source": [
        "Fashion_df1.createOrReplaceTempView(\"brands\")\n",
        "Fashion_df2.createOrReplaceTempView(\"products\")\n",
        "j1=spark.sql(\"SELECT * FROM brands RIGHT JOIN products ON brands.brand_name == products.brand\")"
      ],
      "metadata": {
        "id": "4PnDUB3gjBh_"
      },
      "execution_count": null,
      "outputs": []
    },
    {
      "cell_type": "markdown",
      "source": [
        "# Using pyspark function as Union "
      ],
      "metadata": {
        "id": "A17ELynXUQr8"
      }
    },
    {
      "cell_type": "code",
      "source": [
        "df2.join(df1,df2.brand ==  df1.brand,\"rightouter\") \\\n",
        "   .show(10)"
      ],
      "metadata": {
        "colab": {
          "base_uri": "https://localhost:8080/"
        },
        "id": "FPQqak1bThFC",
        "outputId": "cf4eea72-e578-45fd-e64b-d066a91126dd"
      },
      "execution_count": null,
      "outputs": [
        {
          "output_type": "stream",
          "name": "stdout",
          "text": [
            "+----+----+-----+------+-----+-----------+----------+-----------+------------+--------+---------------+\n",
            "|p_id|name|price|colour|brand|ratingCount|avg_rating|description|p_attributes|brand_id|          brand|\n",
            "+----+----+-----+------+-----+-----------+----------+-----------+------------+--------+---------------+\n",
            "|null|null| null|  null| null|       null|      null|       null|        null|       1|            513|\n",
            "|null|null| null|  null| null|       null|      null|       null|        null|       2|           109f|\n",
            "|null|null| null|  null| null|       null|      null|       null|        null|       3|      20dresses|\n",
            "|null|null| null|  null| null|       null|      null|       null|        null|       4|    250 designs|\n",
            "|null|null| null|  null| null|       null|      null|       null|        null|       5|           3pin|\n",
            "|null|null| null|  null| null|       null|      null|       null|        null|       6|  6y collective|\n",
            "|null|null| null|  null| null|       null|      null|       null|        null|       7|98 degree north|\n",
            "|null|null| null|  null| null|       null|      null|       null|        null|       8|     9teenagain|\n",
            "|null|null| null|  null| null|       null|      null|       null|        null|       9| a little fable|\n",
            "|null|null| null|  null| null|       null|      null|       null|        null|      10|       a.t.u.n.|\n",
            "+----+----+-----+------+-----+-----------+----------+-----------+------------+--------+---------------+\n",
            "only showing top 10 rows\n",
            "\n"
          ]
        }
      ]
    },
    {
      "cell_type": "code",
      "source": [
        "Joined_df=df2.join(df1,df2.brand ==  df1.brand,\"rightouter\") \n",
        "  "
      ],
      "metadata": {
        "id": "O8K1yqVlV4nX"
      },
      "execution_count": null,
      "outputs": []
    },
    {
      "cell_type": "code",
      "source": [
        "Joined_df.show()"
      ],
      "metadata": {
        "colab": {
          "base_uri": "https://localhost:8080/"
        },
        "id": "hiRqq8lEWJpg",
        "outputId": "afceacf7-bfed-4c67-f865-fe1f74c1a594"
      },
      "execution_count": null,
      "outputs": [
        {
          "output_type": "stream",
          "name": "stdout",
          "text": [
            "+----+----+-----+------+-----+-----------+----------+-----------+------------+--------+--------------------+\n",
            "|p_id|name|price|colour|brand|ratingCount|avg_rating|description|p_attributes|brand_id|               brand|\n",
            "+----+----+-----+------+-----+-----------+----------+-----------+------------+--------+--------------------+\n",
            "|null|null| null|  null| null|       null|      null|       null|        null|       1|                 513|\n",
            "|null|null| null|  null| null|       null|      null|       null|        null|       2|                109f|\n",
            "|null|null| null|  null| null|       null|      null|       null|        null|       3|           20dresses|\n",
            "|null|null| null|  null| null|       null|      null|       null|        null|       4|         250 designs|\n",
            "|null|null| null|  null| null|       null|      null|       null|        null|       5|                3pin|\n",
            "|null|null| null|  null| null|       null|      null|       null|        null|       6|       6y collective|\n",
            "|null|null| null|  null| null|       null|      null|       null|        null|       7|     98 degree north|\n",
            "|null|null| null|  null| null|       null|      null|       null|        null|       8|          9teenagain|\n",
            "|null|null| null|  null| null|       null|      null|       null|        null|       9|      a little fable|\n",
            "|null|null| null|  null| null|       null|      null|       null|        null|      10|            a.t.u.n.|\n",
            "|null|null| null|  null| null|       null|      null|       null|        null|      11|             aadvika|\n",
            "|null|null| null|  null| null|       null|      null|       null|        null|      12|       aadya fashion|\n",
            "|null|null| null|  null| null|       null|      null|       null|        null|      13|              aahwan|\n",
            "|null|null| null|  null| null|       null|      null|       null|        null|      14|              aaliya|\n",
            "|null|null| null|  null| null|       null|      null|       null|        null|      15|              aarbee|\n",
            "|null|null| null|  null| null|       null|      null|       null|        null|      16|              aarika|\n",
            "|null|null| null|  null| null|       null|      null|       null|        null|      17|    aarke ritu kumar|\n",
            "|null|null| null|  null| null|       null|      null|       null|        null|      18|                aasi|\n",
            "|null|null| null|  null| null|       null|      null|       null|        null|      19|aasi - house of nayo|\n",
            "|null|null| null|  null| null|       null|      null|       null|        null|      20|              aasiya|\n",
            "+----+----+-----+------+-----+-----------+----------+-----------+------------+--------+--------------------+\n",
            "only showing top 20 rows\n",
            "\n"
          ]
        }
      ]
    },
    {
      "cell_type": "markdown",
      "source": [
        "# Merger cannot be used in this case of joining this data "
      ],
      "metadata": {
        "id": "RS-QqkVlXCK_"
      }
    },
    {
      "cell_type": "code",
      "source": [
        "merged_df= df2.unionByName(df1,allowMissingColumns=True)\n",
        "merged_df.show(5)"
      ],
      "metadata": {
        "id": "JTSWq_CvWo6X"
      },
      "execution_count": null,
      "outputs": []
    },
    {
      "cell_type": "markdown",
      "source": [
        "# The Joined_df is converted into Table called fashion"
      ],
      "metadata": {
        "id": "ROLhAs36Xb7w"
      }
    },
    {
      "cell_type": "code",
      "source": [
        "Joined_df.createOrReplaceTempView(\"fashion\")"
      ],
      "metadata": {
        "id": "1UV5xltyXdm5"
      },
      "execution_count": null,
      "outputs": []
    },
    {
      "cell_type": "markdown",
      "source": [
        "# Using SQL to do Data Cleaning on the Fashion Table"
      ],
      "metadata": {
        "id": "T9-cwDLOYSLM"
      }
    },
    {
      "cell_type": "code",
      "source": [
        "spark.sql(\"SELECT * FROM fashion\").show()"
      ],
      "metadata": {
        "id": "UsX8WMKsYU3n"
      },
      "execution_count": null,
      "outputs": []
    },
    {
      "cell_type": "code",
      "source": [
        "#spark.sql(SELECT brand_id from brands LEFT JOIN products ON brands.brand_id = products.brand)"
      ],
      "metadata": {
        "id": "WXRZO5RZuWah"
      },
      "execution_count": null,
      "outputs": []
    },
    {
      "cell_type": "code",
      "source": [
        "spark.sql(\"SELECT * FROM fashion WHERE brand_id IS NULL\").show(12)"
      ],
      "metadata": {
        "id": "E87lYk5oflIF"
      },
      "execution_count": null,
      "outputs": []
    },
    {
      "cell_type": "markdown",
      "source": [
        "## Converting the file to pandas "
      ],
      "metadata": {
        "id": "IoH-eI66NDg5"
      }
    },
    {
      "cell_type": "code",
      "source": [
        "Joined_df.show()"
      ],
      "metadata": {
        "id": "u-ufMwT1vRy7"
      },
      "execution_count": null,
      "outputs": []
    },
    {
      "cell_type": "markdown",
      "source": [
        "# Converting the the Pyspark to pandas "
      ],
      "metadata": {
        "id": "Gt-Ngy02hBJl"
      }
    },
    {
      "cell_type": "code",
      "source": [
        "convert_DF = Joined_df.toPandas()\n",
        "print(convert_DF)"
      ],
      "metadata": {
        "id": "qSK3zD58u_GH"
      },
      "execution_count": null,
      "outputs": []
    },
    {
      "cell_type": "code",
      "source": [
        "import pandas as pd\n",
        "import matplotlib.pyplot as plt\n",
        "import seaborn as sns\n",
        "import numpy as np\n",
        "\n"
      ],
      "metadata": {
        "id": "s0D1lZQDwp3J"
      },
      "execution_count": null,
      "outputs": []
    },
    {
      "cell_type": "markdown",
      "source": [
        "# Write the Dataframe to CSV file "
      ],
      "metadata": {
        "id": "kxvJESvdcMcs"
      }
    },
    {
      "cell_type": "code",
      "source": [
        "\n",
        "# Write DataFrame to CSV File with Default params.\n",
        "convert_DF.to_csv(\"/content/fashionnew.csv\")\n"
      ],
      "metadata": {
        "id": "ANPlP9VJYTBD"
      },
      "execution_count": null,
      "outputs": []
    },
    {
      "cell_type": "code",
      "source": [],
      "metadata": {
        "id": "-sgl6g7rzXKa"
      },
      "execution_count": null,
      "outputs": []
    }
  ]
}